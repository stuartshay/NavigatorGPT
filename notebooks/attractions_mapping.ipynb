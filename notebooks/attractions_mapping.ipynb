{
 "cells": [
  {
   "cell_type": "code",
   "execution_count": 262,
   "metadata": {},
   "outputs": [],
   "source": [
    "import pandas as pd\n",
    "import json\n",
    "import datetime"
   ]
  },
  {
   "cell_type": "markdown",
   "metadata": {},
   "source": [
    "### Import Data and Mapping File"
   ]
  },
  {
   "cell_type": "code",
   "execution_count": 451,
   "metadata": {},
   "outputs": [
    {
     "data": {
      "text/html": [
       "<div>\n",
       "<style scoped>\n",
       "    .dataframe tbody tr th:only-of-type {\n",
       "        vertical-align: middle;\n",
       "    }\n",
       "\n",
       "    .dataframe tbody tr th {\n",
       "        vertical-align: top;\n",
       "    }\n",
       "\n",
       "    .dataframe thead th {\n",
       "        text-align: right;\n",
       "    }\n",
       "</style>\n",
       "<table border=\"1\" class=\"dataframe\">\n",
       "  <thead>\n",
       "    <tr style=\"text-align: right;\">\n",
       "      <th></th>\n",
       "      <th>LPNumber</th>\n",
       "      <th>LandmarkType</th>\n",
       "      <th>DesignationDate</th>\n",
       "      <th>Id</th>\n",
       "    </tr>\n",
       "  </thead>\n",
       "  <tbody>\n",
       "    <tr>\n",
       "      <th>0</th>\n",
       "      <td>LP-02185</td>\n",
       "      <td>Individual Landmark</td>\n",
       "      <td>2006-04-18</td>\n",
       "      <td>646841c99e866c1d68eb5710</td>\n",
       "    </tr>\n",
       "    <tr>\n",
       "      <th>1</th>\n",
       "      <td>LP-02186</td>\n",
       "      <td>Individual Landmark</td>\n",
       "      <td>2006-04-18</td>\n",
       "      <td>646808f39e866c1d68eb56fc</td>\n",
       "    </tr>\n",
       "    <tr>\n",
       "      <th>2</th>\n",
       "      <td>LP-02188</td>\n",
       "      <td>Individual Landmark</td>\n",
       "      <td>2006-06-20</td>\n",
       "      <td>64794de4426b0f007933dd03</td>\n",
       "    </tr>\n",
       "    <tr>\n",
       "      <th>3</th>\n",
       "      <td>LP-02189</td>\n",
       "      <td>Individual Landmark</td>\n",
       "      <td>2006-03-14</td>\n",
       "      <td>6477aee6426b0f007933dce8</td>\n",
       "    </tr>\n",
       "    <tr>\n",
       "      <th>4</th>\n",
       "      <td>LP-02190</td>\n",
       "      <td>Individual Landmark</td>\n",
       "      <td>2006-06-13</td>\n",
       "      <td>648fcf2913f51e5a4696f23d</td>\n",
       "    </tr>\n",
       "  </tbody>\n",
       "</table>\n",
       "</div>"
      ],
      "text/plain": [
       "   LPNumber         LandmarkType DesignationDate                        Id\n",
       "0  LP-02185  Individual Landmark      2006-04-18  646841c99e866c1d68eb5710\n",
       "1  LP-02186  Individual Landmark      2006-04-18  646808f39e866c1d68eb56fc\n",
       "2  LP-02188  Individual Landmark      2006-06-20  64794de4426b0f007933dd03\n",
       "3  LP-02189  Individual Landmark      2006-03-14  6477aee6426b0f007933dce8\n",
       "4  LP-02190  Individual Landmark      2006-06-13  648fcf2913f51e5a4696f23d"
      ]
     },
     "execution_count": 451,
     "metadata": {},
     "output_type": "execute_result"
    }
   ],
   "source": [
    "with open(\"../data/mapping/attration.json\", \"r\") as file:\n",
    "    mapping = json.load(file)\n",
    "\n",
    "df = pd.read_excel(\"../data/attractions/Location-Import.xlsx\", sheet_name=\"Landmark\")\n",
    "df.head(5)"
   ]
  },
  {
   "cell_type": "markdown",
   "metadata": {},
   "source": [
    "#### Clean Dataframe"
   ]
  },
  {
   "cell_type": "code",
   "execution_count": 452,
   "metadata": {},
   "outputs": [],
   "source": [
    "def clean_dataframe(df):\n",
    "    \"\"\"\n",
    "    Cleans the DataFrame based on a set of defined rules.\n",
    "\n",
    "    Args:\n",
    "    - df (pd.DataFrame): The DataFrame to clean.\n",
    "\n",
    "    Returns:\n",
    "    - pd.DataFrame: The cleaned DataFrame.\n",
    "    \"\"\"\n",
    "    # Rule 1: Trim leading and trailing whitespace from all string values\n",
    "    df = df.applymap(lambda x: x.strip() if isinstance(x, str) else x)\n",
    "        \n",
    "    return df\n",
    "\n",
    "# Use the function\n",
    "df = clean_dataframe(df)"
   ]
  },
  {
   "cell_type": "markdown",
   "metadata": {},
   "source": [
    "### Validate Data "
   ]
  },
  {
   "cell_type": "code",
   "execution_count": 453,
   "metadata": {},
   "outputs": [
    {
     "data": {
      "text/html": [
       "<div>\n",
       "<style scoped>\n",
       "    .dataframe tbody tr th:only-of-type {\n",
       "        vertical-align: middle;\n",
       "    }\n",
       "\n",
       "    .dataframe tbody tr th {\n",
       "        vertical-align: top;\n",
       "    }\n",
       "\n",
       "    .dataframe thead th {\n",
       "        text-align: right;\n",
       "    }\n",
       "</style>\n",
       "<table border=\"1\" class=\"dataframe\">\n",
       "  <thead>\n",
       "    <tr style=\"text-align: right;\">\n",
       "      <th></th>\n",
       "      <th>LPNumber</th>\n",
       "      <th>LandmarkType</th>\n",
       "      <th>DesignationDate</th>\n",
       "      <th>Id</th>\n",
       "    </tr>\n",
       "  </thead>\n",
       "  <tbody>\n",
       "    <tr>\n",
       "      <th>0</th>\n",
       "      <td>LP-02185</td>\n",
       "      <td>Individual Landmark</td>\n",
       "      <td>2006-04-18</td>\n",
       "      <td>646841c99e866c1d68eb5710</td>\n",
       "    </tr>\n",
       "    <tr>\n",
       "      <th>1</th>\n",
       "      <td>LP-02186</td>\n",
       "      <td>Individual Landmark</td>\n",
       "      <td>2006-04-18</td>\n",
       "      <td>646808f39e866c1d68eb56fc</td>\n",
       "    </tr>\n",
       "    <tr>\n",
       "      <th>2</th>\n",
       "      <td>LP-02188</td>\n",
       "      <td>Individual Landmark</td>\n",
       "      <td>2006-06-20</td>\n",
       "      <td>64794de4426b0f007933dd03</td>\n",
       "    </tr>\n",
       "    <tr>\n",
       "      <th>3</th>\n",
       "      <td>LP-02189</td>\n",
       "      <td>Individual Landmark</td>\n",
       "      <td>2006-03-14</td>\n",
       "      <td>6477aee6426b0f007933dce8</td>\n",
       "    </tr>\n",
       "    <tr>\n",
       "      <th>4</th>\n",
       "      <td>LP-02190</td>\n",
       "      <td>Individual Landmark</td>\n",
       "      <td>2006-06-13</td>\n",
       "      <td>648fcf2913f51e5a4696f23d</td>\n",
       "    </tr>\n",
       "  </tbody>\n",
       "</table>\n",
       "</div>"
      ],
      "text/plain": [
       "   LPNumber         LandmarkType DesignationDate                        Id\n",
       "0  LP-02185  Individual Landmark      2006-04-18  646841c99e866c1d68eb5710\n",
       "1  LP-02186  Individual Landmark      2006-04-18  646808f39e866c1d68eb56fc\n",
       "2  LP-02188  Individual Landmark      2006-06-20  64794de4426b0f007933dd03\n",
       "3  LP-02189  Individual Landmark      2006-03-14  6477aee6426b0f007933dce8\n",
       "4  LP-02190  Individual Landmark      2006-06-13  648fcf2913f51e5a4696f23d"
      ]
     },
     "execution_count": 453,
     "metadata": {},
     "output_type": "execute_result"
    }
   ],
   "source": [
    "import re\n",
    "\n",
    "def validate_dataframe(df, mapping):\n",
    "    \"\"\"\n",
    "    Validates the DataFrame based on the given mapping.\n",
    "\n",
    "    Args:\n",
    "    - df (pd.DataFrame): The DataFrame containing the data.\n",
    "    - mapping (dict): The mapping containing validation rules.\n",
    "\n",
    "    Returns:\n",
    "    - dict: A dictionary with keys as column names and values as lists of invalid entries for that column.\n",
    "    \"\"\"\n",
    "    validation_errors = {}\n",
    "\n",
    "    # TODO: Add more validation rules as needed based on the mapping\n",
    "    for field, rules in mapping.items():\n",
    "        # Check if the field is present in the DataFrame\n",
    "        if rules.get('column') in df.columns:\n",
    "            column_name = rules['column']\n",
    "            # Validate based on string pattern\n",
    "            if rules.get('type') == 'string' and rules.get('validation') and 'pattern' in rules['validation']:\n",
    "                pattern = re.compile(rules['validation']['pattern'])\n",
    "                invalid_values = [value for value in df[column_name] if not pattern.match(str(value))]\n",
    "                if invalid_values:\n",
    "                    validation_errors[column_name] = invalid_values\n",
    "\n",
    "    return validation_errors\n",
    "\n",
    "\n",
    "# Validate the dataframe\n",
    "errors = validate_dataframe(df, mapping)\n",
    "\n",
    "# Display validation errors\n",
    "for column, invalid_values in errors.items():\n",
    "    print(f\"Invalid values for {column}: {invalid_values}\")\n",
    "\n",
    "# Display first 5 rows of the dataframe\n",
    "df.head(5)"
   ]
  },
  {
   "cell_type": "code",
   "execution_count": 454,
   "metadata": {},
   "outputs": [
    {
     "name": "stdout",
     "output_type": "stream",
     "text": [
      "../data/attractions/Location-Import_2023_09_30_23_17_10.json\n"
     ]
    }
   ],
   "source": [
    "import datetime\n",
    "\n",
    "def process_dataframe_based_on_mapping(df, mapping):\n",
    "    output = []\n",
    "\n",
    "    for _, row in df.iterrows():\n",
    "        record = {}\n",
    "        for key, value in mapping.items():\n",
    "            if isinstance(value, dict) and \"column\" in value:\n",
    "                column_name = value[\"column\"]\n",
    "                if column_name in df.columns:\n",
    "                    if \"documentField\" in value:\n",
    "                        doc_field = value[\"documentField\"]\n",
    "                        if isinstance(row[column_name], pd.Timestamp):\n",
    "                            # Special handling for date columns to represent in MongoDB Extended JSON format\n",
    "                            date_str = row[column_name].strftime('%Y-%m-%dT%H:%M:%S')\n",
    "                            record[doc_field] = {\"$date\": date_str}\n",
    "                        else:\n",
    "                            record[doc_field] = row[column_name]\n",
    "        output.append(record)\n",
    "\n",
    "    return output\n",
    "\n",
    "result = process_dataframe_based_on_mapping(df, mapping)\n",
    "\n",
    "current_datetime = datetime.datetime.now().strftime('%Y_%m_%d_%H_%M_%S')\n",
    "output_path = f\"../data/attractions/Location-Import_{current_datetime}.json\"\n",
    "\n",
    "with open(output_path, \"w\") as file:\n",
    "    json.dump(result, file, indent=4)\n",
    "\n",
    "print(output_path) \n",
    "\n"
   ]
  },
  {
   "cell_type": "code",
   "execution_count": null,
   "metadata": {},
   "outputs": [],
   "source": [
    "print(json.dumps(result, indent=4)) "
   ]
  }
 ],
 "metadata": {
  "kernelspec": {
   "display_name": "Python 3 (ipykernel)",
   "language": "python",
   "name": "python3"
  },
  "language_info": {
   "codemirror_mode": {
    "name": "ipython",
    "version": 3
   },
   "file_extension": ".py",
   "mimetype": "text/x-python",
   "name": "python",
   "nbconvert_exporter": "python",
   "pygments_lexer": "ipython3",
   "version": "3.9.7"
  },
  "orig_nbformat": 4
 },
 "nbformat": 4,
 "nbformat_minor": 2
}
