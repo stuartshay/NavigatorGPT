{
 "cells": [
  {
   "cell_type": "code",
   "execution_count": 152,
   "metadata": {},
   "outputs": [],
   "source": [
    "import pandas as pd\n",
    "import json"
   ]
  },
  {
   "cell_type": "code",
   "execution_count": null,
   "metadata": {},
   "outputs": [],
   "source": [
    "with open(\"../data/mapping/attration.json\", \"r\") as file:\n",
    "    mapping = json.load(file)\n",
    "\n",
    "df = pd.read_excel(\"../data/attractions/Location-Import.xlsx\", sheet_name=\"Landmark\")\n",
    "df.head(5)"
   ]
  },
  {
   "cell_type": "code",
   "execution_count": 156,
   "metadata": {},
   "outputs": [
    {
     "name": "stdout",
     "output_type": "stream",
     "text": [
      "[\n",
      "    {\n",
      "        \"id\": \"6455bad54673c82a34f4eccc\",\n",
      "        \"landmark.lpNumber\": \"LP-00160\",\n",
      "        \"landmark.landmarkType\": \"Individual Landmark\",\n",
      "        \"landmark.designationDate\": {\n",
      "            \"$date\": \"1968-11-12T00:00:00\"\n",
      "        }\n",
      "    },\n",
      "    {\n",
      "        \"id\": \"6470e61c9e866c1d68eb587f\",\n",
      "        \"landmark.lpNumber\": \"LP-00161\",\n",
      "        \"landmark.landmarkType\": \"Individual Landmark\",\n",
      "        \"landmark.designationDate\": {\n",
      "            \"$date\": \"1968-03-19T00:00:00\"\n",
      "        }\n",
      "    },\n",
      "    {\n",
      "        \"id\": \"64583f814673c82a34f4ecf6\",\n",
      "        \"landmark.lpNumber\": \"LP-00162\",\n",
      "        \"landmark.landmarkType\": \"Individual Landmark\",\n",
      "        \"landmark.designationDate\": {\n",
      "            \"$date\": \"1969-11-19T00:00:00\"\n",
      "        }\n",
      "    },\n",
      "    {\n",
      "        \"id\": \"6470d6d49e866c1d68eb587c\",\n",
      "        \"landmark.lpNumber\": \"LP-00163\",\n",
      "        \"landmark.landmarkType\": \"Individual Landmark\",\n",
      "        \"landmark.designationDate\": {\n",
      "            \"$date\": \"2016-08-10T00:00:00\"\n",
      "        }\n",
      "    },\n",
      "    {\n",
      "        \"id\": \"64582fe34673c82a34f4ece9\",\n",
      "        \"landmark.lpNumber\": \"LP-00164\",\n",
      "        \"landmark.landmarkType\": \"Individual Landmark\",\n",
      "        \"landmark.designationDate\": {\n",
      "            \"$date\": \"1966-05-17T00:00:00\"\n",
      "        }\n",
      "    }\n",
      "]\n"
     ]
    }
   ],
   "source": [
    "def process_dataframe_based_on_mapping(df, mapping):\n",
    "    output = []\n",
    "\n",
    "    for _, row in df.iterrows():\n",
    "        record = {}\n",
    "        for key, value in mapping.items():\n",
    "            if isinstance(value, dict) and \"column\" in value:\n",
    "                column_name = value[\"column\"]\n",
    "                if column_name in df.columns:\n",
    "                    if \"documentField\" in value:\n",
    "                        doc_field = value[\"documentField\"]\n",
    "                        if isinstance(row[column_name], pd.Timestamp):\n",
    "                            # Special handling for date columns to represent in MongoDB Extended JSON format\n",
    "                            date_str = row[column_name].strftime('%Y-%m-%dT%H:%M:%S')\n",
    "                            record[doc_field] = {\"$date\": date_str}\n",
    "                        else:\n",
    "                            record[doc_field] = row[column_name]\n",
    "        output.append(record)\n",
    "\n",
    "    return output\n",
    "\n",
    "result = process_dataframe_based_on_mapping(df, mapping)\n",
    "print(json.dumps(result[:5], indent=4)) "
   ]
  }
 ],
 "metadata": {
  "kernelspec": {
   "display_name": "Python 3 (ipykernel)",
   "language": "python",
   "name": "python3"
  },
  "language_info": {
   "codemirror_mode": {
    "name": "ipython",
    "version": 3
   },
   "file_extension": ".py",
   "mimetype": "text/x-python",
   "name": "python",
   "nbconvert_exporter": "python",
   "pygments_lexer": "ipython3",
   "version": "3.9.7"
  },
  "orig_nbformat": 4
 },
 "nbformat": 4,
 "nbformat_minor": 2
}
