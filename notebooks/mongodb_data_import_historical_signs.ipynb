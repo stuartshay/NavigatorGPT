{
 "cells": [
  {
   "cell_type": "markdown",
   "metadata": {},
   "source": [
    "# Directory Historical Signs - Import Data\n",
    "\n",
    "https://data.cityofnewyork.us/Recreation/Directory-Historical-Signs/xdkk-pvdv"
   ]
  },
  {
   "cell_type": "markdown",
   "metadata": {},
   "source": [
    "## Import Required Libraries"
   ]
  },
  {
   "cell_type": "code",
   "execution_count": 314,
   "metadata": {},
   "outputs": [
    {
     "name": "stdout",
     "output_type": "stream",
     "text": [
      "Current Working Directory: /home/jovyan/work\n"
     ]
    }
   ],
   "source": [
    "import json\n",
    "import os\n",
    "import pandas as pd\n",
    "from pymongo import MongoClient\n",
    "\n",
    "# Load the MongoDB connection string from the JSON file\n",
    "PATH_TO_SECRET_JSON = '/home/jovyan/keys/mongodb_key.json'\n",
    "with open(PATH_TO_SECRET_JSON) as f:\n",
    "    MONGODB_URI = json.load(f)['connection_string']\n",
    "\n",
    "current_working_directory = os.getcwd()\n",
    "\n",
    "print(\"Current Working Directory:\", current_working_directory)\n"
   ]
  },
  {
   "cell_type": "markdown",
   "metadata": {},
   "source": [
    "## Load Data into DataFrame"
   ]
  },
  {
   "cell_type": "code",
   "execution_count": 301,
   "metadata": {},
   "outputs": [],
   "source": [
    "with open('../data/reference/DPR_HistoricalSigns_001.json', 'r') as f:\n",
    "    data = json.load(f)\n",
    "\n",
    "# Get first 20 records\n",
    "first_20_records = data[:20]\n",
    "\n",
    "# Convert to DataFrame\n",
    "df = pd.DataFrame(first_20_records)"
   ]
  },
  {
   "cell_type": "code",
   "execution_count": 313,
   "metadata": {},
   "outputs": [
    {
     "data": {
      "text/html": [
       "<div>\n",
       "<style scoped>\n",
       "    .dataframe tbody tr th:only-of-type {\n",
       "        vertical-align: middle;\n",
       "    }\n",
       "\n",
       "    .dataframe tbody tr th {\n",
       "        vertical-align: top;\n",
       "    }\n",
       "\n",
       "    .dataframe thead th {\n",
       "        text-align: right;\n",
       "    }\n",
       "</style>\n",
       "<table border=\"1\" class=\"dataframe\">\n",
       "  <thead>\n",
       "    <tr style=\"text-align: right;\">\n",
       "      <th></th>\n",
       "      <th>name</th>\n",
       "      <th>location</th>\n",
       "      <th>borough</th>\n",
       "      <th>content</th>\n",
       "      <th>propID</th>\n",
       "    </tr>\n",
       "  </thead>\n",
       "  <tbody>\n",
       "    <tr>\n",
       "      <th>0</th>\n",
       "      <td>Bartow-Pell Mansion</td>\n",
       "      <td>Pelham Bay Park</td>\n",
       "      <td>Bronx</td>\n",
       "      <td>&lt;p&gt;This historic house stands on a tract of la...</td>\n",
       "      <td>X039</td>\n",
       "    </tr>\n",
       "    <tr>\n",
       "      <th>1</th>\n",
       "      <td>E.M.T. Christopher J. Prescott Playground</td>\n",
       "      <td>1.156 Acres</td>\n",
       "      <td>Staten_Island</td>\n",
       "      <td>&lt;p&gt;&lt;strong&gt;What was here before?&lt;/strong&gt;&lt;/p&gt;\\...</td>\n",
       "      <td>R085</td>\n",
       "    </tr>\n",
       "  </tbody>\n",
       "</table>\n",
       "</div>"
      ],
      "text/plain": [
       "                                        name         location        borough  \\\n",
       "0                        Bartow-Pell Mansion  Pelham Bay Park          Bronx   \n",
       "1  E.M.T. Christopher J. Prescott Playground      1.156 Acres  Staten_Island   \n",
       "\n",
       "                                             content propID  \n",
       "0  <p>This historic house stands on a tract of la...   X039  \n",
       "1  <p><strong>What was here before?</strong></p>\\...   R085  "
      ]
     },
     "execution_count": 313,
     "metadata": {},
     "output_type": "execute_result"
    }
   ],
   "source": [
    "df.head(2)"
   ]
  },
  {
   "cell_type": "code",
   "execution_count": 312,
   "metadata": {},
   "outputs": [
    {
     "name": "stdout",
     "output_type": "stream",
     "text": [
      "column_list: ['name', 'location', 'borough', 'content', 'propID']\n",
      "Total Number of Records: 20\n"
     ]
    }
   ],
   "source": [
    "column_list = df.columns.tolist()\n",
    "print(\"column_list:\", column_list)\n",
    "\n",
    "total_records = len(df)\n",
    "print(\"Total Number of Records:\", total_records)"
   ]
  },
  {
   "cell_type": "markdown",
   "metadata": {},
   "source": [
    "## Connect to MongoDB"
   ]
  },
  {
   "cell_type": "code",
   "execution_count": 320,
   "metadata": {},
   "outputs": [
    {
     "name": "stdout",
     "output_type": "stream",
     "text": [
      "The MongoDB client has been initialized.\n",
      "The version of the pymongo package is 4.4.1\n",
      "Total Number of Records in 'historicalSigns' Collection: 0\n"
     ]
    }
   ],
   "source": [
    "# Extract the database name from the connection string\n",
    "db_name = MONGODB_URI.split('/')[-1].split('?')[0]\n",
    "\n",
    "# Create a MongoDB client using the connection string\n",
    "if MONGODB_URI:\n",
    "    client = MongoClient(MONGODB_URI)\n",
    "    print(\"The MongoDB client has been initialized.\")\n",
    "else:\n",
    "    print(\"Failed to initialize the MongoDB client.\")\n",
    "\n",
    "# Print the version of the pymongo package\n",
    "pymongo_version = pymongo.__version__\n",
    "print(f\"The version of the pymongo package is {pymongo_version}\")\n",
    "\n",
    "\n",
    "# Connect to the specified MongoDB database and collection\n",
    "db = client[db_name]\n",
    "collection = db.historicalSigns\n",
    "\n",
    "total_records_in_collection = collection.count_documents({})\n",
    "print(f\"Total Number of Records in 'historicalSigns' Collection: {total_records_in_collection}\")"
   ]
  },
  {
   "cell_type": "markdown",
   "metadata": {},
   "source": [
    "## Insert Data into MongoDB"
   ]
  },
  {
   "cell_type": "code",
   "execution_count": null,
   "metadata": {},
   "outputs": [],
   "source": [
    "# Convert the DataFrame to a list of dictionaries and insert them into MongoDB\n",
    "records = df.to_dict(orient='records')\n",
    "collection.insert_many(records)"
   ]
  }
 ],
 "metadata": {
  "kernelspec": {
   "display_name": "Python 3 (ipykernel)",
   "language": "python",
   "name": "python3"
  },
  "language_info": {
   "codemirror_mode": {
    "name": "ipython",
    "version": 3
   },
   "file_extension": ".py",
   "mimetype": "text/x-python",
   "name": "python",
   "nbconvert_exporter": "python",
   "pygments_lexer": "ipython3",
   "version": "3.9.7"
  }
 },
 "nbformat": 4,
 "nbformat_minor": 4
}
