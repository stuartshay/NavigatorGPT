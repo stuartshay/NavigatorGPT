{
 "cells": [
  {
   "cell_type": "markdown",
   "metadata": {},
   "source": [
    "# Directory Historical Signs - Import Data\n",
    "\n",
    "https://data.cityofnewyork.us/Recreation/Directory-Historical-Signs/xdkk-pvdv"
   ]
  },
  {
   "cell_type": "markdown",
   "metadata": {},
   "source": [
    "## Import Required Libraries"
   ]
  },
  {
   "cell_type": "code",
   "execution_count": 344,
   "metadata": {},
   "outputs": [
    {
     "name": "stdout",
     "output_type": "stream",
     "text": [
      "Current Working Directory: /home/jovyan/work\n"
     ]
    }
   ],
   "source": [
    "import json\n",
    "import os\n",
    "import pandas as pd\n",
    "from pymongo import MongoClient\n",
    "from bson.objectid import ObjectId \n",
    "\n",
    "# Load the MongoDB connection string from the JSON file\n",
    "PATH_TO_SECRET_JSON = '/home/jovyan/keys/mongodb_key.json'\n",
    "with open(PATH_TO_SECRET_JSON) as f:\n",
    "    MONGODB_URI = json.load(f)['connection_string']\n",
    "\n",
    "current_working_directory = os.getcwd()\n",
    "\n",
    "print(\"Current Working Directory:\", current_working_directory)\n"
   ]
  },
  {
   "cell_type": "markdown",
   "metadata": {},
   "source": [
    "## Load Data into DataFrame"
   ]
  },
  {
   "cell_type": "code",
   "execution_count": 324,
   "metadata": {},
   "outputs": [
    {
     "name": "stdout",
     "output_type": "stream",
     "text": [
      "2249 records inserted into 'historicalSigns' collection.\n"
     ]
    }
   ],
   "source": [
    "# Read the entire JSON file into a DataFrame\n",
    "with open('../data/reference/DPR_HistoricalSigns_001.json', 'r') as f:\n",
    "    entire_data = json.load(f)\n",
    "\n",
    "# Convert to DataFrame\n",
    "df_entire = pd.DataFrame(entire_data)\n",
    "\n",
    "# Convert the DataFrame to a list of dictionaries\n",
    "records_entire = df_entire.to_dict(orient='records')\n",
    "\n",
    "# Insert the records into the MongoDB collection\n",
    "collection.insert_many(records_entire)\n",
    "\n",
    "# Confirm that the records are inserted\n",
    "print(f\"{len(records_entire)} records inserted into 'historicalSigns' collection.\")\n"
   ]
  },
  {
   "cell_type": "code",
   "execution_count": 325,
   "metadata": {},
   "outputs": [
    {
     "data": {
      "text/html": [
       "<div>\n",
       "<style scoped>\n",
       "    .dataframe tbody tr th:only-of-type {\n",
       "        vertical-align: middle;\n",
       "    }\n",
       "\n",
       "    .dataframe tbody tr th {\n",
       "        vertical-align: top;\n",
       "    }\n",
       "\n",
       "    .dataframe thead th {\n",
       "        text-align: right;\n",
       "    }\n",
       "</style>\n",
       "<table border=\"1\" class=\"dataframe\">\n",
       "  <thead>\n",
       "    <tr style=\"text-align: right;\">\n",
       "      <th></th>\n",
       "      <th>name</th>\n",
       "      <th>location</th>\n",
       "      <th>borough</th>\n",
       "      <th>content</th>\n",
       "      <th>propID</th>\n",
       "    </tr>\n",
       "  </thead>\n",
       "  <tbody>\n",
       "    <tr>\n",
       "      <th>0</th>\n",
       "      <td>Bartow-Pell Mansion</td>\n",
       "      <td>Pelham Bay Park</td>\n",
       "      <td>Bronx</td>\n",
       "      <td>&lt;p&gt;This historic house stands on a tract of la...</td>\n",
       "      <td>X039</td>\n",
       "    </tr>\n",
       "    <tr>\n",
       "      <th>1</th>\n",
       "      <td>E.M.T. Christopher J. Prescott Playground</td>\n",
       "      <td>1.156 Acres</td>\n",
       "      <td>Staten_Island</td>\n",
       "      <td>&lt;p&gt;&lt;strong&gt;What was here before?&lt;/strong&gt;&lt;/p&gt;\\...</td>\n",
       "      <td>R085</td>\n",
       "    </tr>\n",
       "  </tbody>\n",
       "</table>\n",
       "</div>"
      ],
      "text/plain": [
       "                                        name         location        borough  \\\n",
       "0                        Bartow-Pell Mansion  Pelham Bay Park          Bronx   \n",
       "1  E.M.T. Christopher J. Prescott Playground      1.156 Acres  Staten_Island   \n",
       "\n",
       "                                             content propID  \n",
       "0  <p>This historic house stands on a tract of la...   X039  \n",
       "1  <p><strong>What was here before?</strong></p>\\...   R085  "
      ]
     },
     "execution_count": 325,
     "metadata": {},
     "output_type": "execute_result"
    }
   ],
   "source": [
    "df.head(2)"
   ]
  },
  {
   "cell_type": "code",
   "execution_count": 312,
   "metadata": {},
   "outputs": [
    {
     "name": "stdout",
     "output_type": "stream",
     "text": [
      "column_list: ['name', 'location', 'borough', 'content', 'propID']\n",
      "Total Number of Records: 20\n"
     ]
    }
   ],
   "source": [
    "column_list = df.columns.tolist()\n",
    "print(\"column_list:\", column_list)\n",
    "\n",
    "total_records = len(df)\n",
    "print(\"Total Number of Records:\", total_records)"
   ]
  },
  {
   "cell_type": "markdown",
   "metadata": {},
   "source": [
    "## Connect to MongoDB"
   ]
  },
  {
   "cell_type": "code",
   "execution_count": 345,
   "metadata": {},
   "outputs": [
    {
     "name": "stdout",
     "output_type": "stream",
     "text": [
      "The MongoDB client has been initialized.\n",
      "The version of the pymongo package is 4.4.1\n",
      "Total Number of Records in 'historicalSigns' Collection: 2269\n"
     ]
    }
   ],
   "source": [
    "# Extract the database name from the connection string\n",
    "db_name = MONGODB_URI.split('/')[-1].split('?')[0]\n",
    "\n",
    "# Create a MongoDB client using the connection string\n",
    "if MONGODB_URI:\n",
    "    client = MongoClient(MONGODB_URI)\n",
    "    print(\"The MongoDB client has been initialized.\")\n",
    "else:\n",
    "    print(\"Failed to initialize the MongoDB client.\")\n",
    "\n",
    "# Print the version of the pymongo package\n",
    "pymongo_version = pymongo.__version__\n",
    "print(f\"The version of the pymongo package is {pymongo_version}\")\n",
    "\n",
    "\n",
    "# Connect to the specified MongoDB database and collection\n",
    "db = client[db_name]\n",
    "collection = db.historicalSigns\n",
    "\n",
    "total_records_in_collection = collection.count_documents({})\n",
    "print(f\"Total Number of Records in 'historicalSigns' Collection: {total_records_in_collection}\")"
   ]
  },
  {
   "cell_type": "markdown",
   "metadata": {},
   "source": [
    "## Insert Data into MongoDB"
   ]
  },
  {
   "cell_type": "code",
   "execution_count": 333,
   "metadata": {},
   "outputs": [],
   "source": [
    "# Convert the DataFrame to a list of dictionaries\n",
    "#records = df.to_dict(orient='records')\n",
    "\n",
    "# Insert the records into the MongoDB collection\n",
    "#collection.insert_many(records)\n",
    "\n",
    "# Print a message indicating successful insertion\n",
    "#print(f\"{len(records)} records inserted into 'historicalSigns' collection.\")\n"
   ]
  },
  {
   "cell_type": "markdown",
   "metadata": {},
   "source": [
    "#### Total Records "
   ]
  },
  {
   "cell_type": "code",
   "execution_count": 397,
   "metadata": {},
   "outputs": [
    {
     "name": "stdout",
     "output_type": "stream",
     "text": [
      "Total records after deletion: 2269\n"
     ]
    }
   ],
   "source": [
    "# Delete All \n",
    "#collection.delete_many({})\n",
    "print(f\"Total records after deletion: {collection.count_documents({})}\")"
   ]
  },
  {
   "cell_type": "code",
   "execution_count": 404,
   "metadata": {},
   "outputs": [],
   "source": [
    "data = [\n",
    "\n",
    "{'_id': '64f688c2a9b9517c24c7e7ce', 'tags': ['nycparks:b010=206']},\n",
    "{'_id': '64f688c2a9b9517c24c7e656', 'tags': ['nycparks:m071=266']},\n",
    "{'_id': '64f688c2a9b9517c24c7e6fd', 'tags': ['nycparks:b047=722']},\n",
    "{'_id': '64f688c2a9b9517c24c7ebe7', 'tags': ['nycparks:b035=397']},\n",
    "{'_id': '64f688c2a9b9517c24c7eb4c', 'tags': ['nycparks:b073=1927']},\n",
    "{'_id': '64f688c2a9b9517c24c7e40f', 'tags': ['nycparks:x040=1194']},\n",
    "{'_id': '64f688c2a9b9517c24c7e626', 'tags': ['nycparks:q099=1893']},\n",
    "{'_id': '64f688c2a9b9517c24c7e91a', 'tags': ['nycparks:q099=519']},\n",
    "{'_id': '64f688c2a9b9517c24c7e91b', 'tags': ['nycwayfinding:lp=00826']},\n",
    "{'_id': '64f688c2a9b9517c24c7e67c', 'tags': ['nycparks:x092=1212']},\n",
    "{'_id': '64f688c2a9b9517c24c7eb29', 'tags': ['nycparks:m098=1682']},\n",
    "{'_id': '64f688c2a9b9517c24c7e925', 'tags': ['nycparks:q075=589']},\n",
    "{'_id': '64f688c2a9b9517c24c7e9a6', 'tags': ['nycparks:m071=666']},\n",
    "{'_id': '64f688c2a9b9517c24c7e83f', 'tags': ['nycparks:b115=1892']},\n",
    "{'_id': '64f688c2a9b9517c24c7e7f2', 'tags': ['nycparks:x080=751']},\n",
    "{'_id': '64f688dda9b9517c24c7ec74', 'tags': ['nycwayfinding:lp=02234']},\n",
    "{'_id': '64f688c2a9b9517c24c7ebf3', 'tags': ['nycwayfinding:lp=01924']},\n",
    "{'_id': '64f688c2a9b9517c24c7e746', 'tags': ['nycparks:b114=1049']},\n",
    "{'_id': '64f688c2a9b9517c24c7e418', 'tags': ['nycparks:x038=530']},\n",
    "{'_id': '64f688c2a9b9517c24c7e64f', 'tags': ['nyccentralpark:landscapes=73554950']},\n",
    "{'_id': '64f688c2a9b9517c24c7eb6d', 'tags': ['nycparks:m088=1453']},\n",
    "{'_id': '64f688c2a9b9517c24c7ebae', 'tags': ['nycparks:q099=1908']},\n",
    "{'_id': '64f688c2a9b9517c24c7e889', 'tags': ['nycwayfinding:lp=00835']},\n",
    "{'_id': '64f688c2a9b9517c24c7e45d', 'tags': ['nyccentralpark:recreation=73554088']},\n",
    "{'_id': '64f688c2a9b9517c24c7e9b5', 'tags': ['nycparks:m089=797']},\n",
    "{'_id': '64f688c2a9b9517c24c7e427', 'tags': ['nycwayfinding:lp=00127']},\n",
    "{'_id': '64f688c2a9b9517c24c7e483', 'tags': ['nycparks:m046=1633']},\n",
    "{'_id': '64f688c2a9b9517c24c7ec65', 'tags': ['nycparks:m098=1657']},\n",
    "{'_id': '64f688c2a9b9517c24c7eb31', 'tags': ['nycopendata:qz43=675']},\n",
    "\n",
    "];"
   ]
  },
  {
   "cell_type": "code",
   "execution_count": 405,
   "metadata": {},
   "outputs": [
    {
     "name": "stdout",
     "output_type": "stream",
     "text": [
      "Adding tags: [{'tag': 'nycparks:b010=206'}]\n",
      "Document with _id: 64f688c2a9b9517c24c7e7ce updated.\n",
      "Adding tags: [{'tag': 'nycparks:m071=266'}]\n",
      "Document with _id: 64f688c2a9b9517c24c7e656 updated.\n",
      "Adding tags: [{'tag': 'nycparks:b047=722'}]\n",
      "Document with _id: 64f688c2a9b9517c24c7e6fd updated.\n",
      "Adding tags: [{'tag': 'nycparks:b035=397'}]\n",
      "Document with _id: 64f688c2a9b9517c24c7ebe7 updated.\n",
      "Adding tags: [{'tag': 'nycparks:b073=1927'}]\n",
      "Document with _id: 64f688c2a9b9517c24c7eb4c updated.\n",
      "Adding tags: [{'tag': 'nycparks:x040=1194'}]\n",
      "Document with _id: 64f688c2a9b9517c24c7e40f updated.\n",
      "Adding tags: [{'tag': 'nycparks:q099=1893'}]\n",
      "Document with _id: 64f688c2a9b9517c24c7e626 updated.\n",
      "Adding tags: [{'tag': 'nycparks:q099=519'}]\n",
      "Document with _id: 64f688c2a9b9517c24c7e91a updated.\n",
      "Adding tags: [{'tag': 'nycwayfinding:lp=00826'}]\n",
      "Document with _id: 64f688c2a9b9517c24c7e91b updated.\n",
      "Adding tags: [{'tag': 'nycparks:x092=1212'}]\n",
      "Document with _id: 64f688c2a9b9517c24c7e67c updated.\n",
      "Adding tags: [{'tag': 'nycparks:m098=1682'}]\n",
      "Document with _id: 64f688c2a9b9517c24c7eb29 updated.\n",
      "Adding tags: [{'tag': 'nycparks:q075=589'}]\n",
      "Document with _id: 64f688c2a9b9517c24c7e925 updated.\n",
      "Adding tags: [{'tag': 'nycparks:m071=666'}]\n",
      "Document with _id: 64f688c2a9b9517c24c7e9a6 updated.\n",
      "Adding tags: [{'tag': 'nycparks:b115=1892'}]\n",
      "Document with _id: 64f688c2a9b9517c24c7e83f updated.\n",
      "Adding tags: [{'tag': 'nycparks:x080=751'}]\n",
      "Document with _id: 64f688c2a9b9517c24c7e7f2 updated.\n",
      "Adding tags: [{'tag': 'nycwayfinding:lp=02234'}]\n",
      "Document with _id: 64f688dda9b9517c24c7ec74 updated.\n",
      "Adding tags: [{'tag': 'nycwayfinding:lp=01924'}]\n",
      "Document with _id: 64f688c2a9b9517c24c7ebf3 updated.\n",
      "Adding tags: [{'tag': 'nycparks:b114=1049'}]\n",
      "Document with _id: 64f688c2a9b9517c24c7e746 updated.\n",
      "Adding tags: [{'tag': 'nycparks:x038=530'}]\n",
      "Document with _id: 64f688c2a9b9517c24c7e418 updated.\n",
      "Adding tags: [{'tag': 'nyccentralpark:landscapes=73554950'}]\n",
      "Document with _id: 64f688c2a9b9517c24c7e64f updated.\n",
      "Adding tags: [{'tag': 'nycparks:m088=1453'}]\n",
      "Document with _id: 64f688c2a9b9517c24c7eb6d updated.\n",
      "Adding tags: [{'tag': 'nycparks:q099=1908'}]\n",
      "Document with _id: 64f688c2a9b9517c24c7ebae updated.\n",
      "Adding tags: [{'tag': 'nycwayfinding:lp=00835'}]\n",
      "Document with _id: 64f688c2a9b9517c24c7e889 updated.\n",
      "Adding tags: [{'tag': 'nyccentralpark:recreation=73554088'}]\n",
      "Document with _id: 64f688c2a9b9517c24c7e45d updated.\n",
      "Adding tags: [{'tag': 'nycparks:m089=797'}]\n",
      "Document with _id: 64f688c2a9b9517c24c7e9b5 updated.\n",
      "Adding tags: [{'tag': 'nycwayfinding:lp=00127'}]\n",
      "Document with _id: 64f688c2a9b9517c24c7e427 updated.\n",
      "Adding tags: [{'tag': 'nycparks:m046=1633'}]\n",
      "Document with _id: 64f688c2a9b9517c24c7e483 updated.\n",
      "Adding tags: [{'tag': 'nycparks:m098=1657'}]\n",
      "Document with _id: 64f688c2a9b9517c24c7ec65 updated.\n",
      "Adding tags: [{'tag': 'nycopendata:qz43=675'}]\n",
      "Document with _id: 64f688c2a9b9517c24c7eb31 updated.\n"
     ]
    }
   ],
   "source": [
    "\n",
    "from bson import ObjectId\n",
    "\n",
    "# Loop through each item in the data array\n",
    "for item in data:\n",
    "    query = {'_id': ObjectId(item['_id'])}  # Use ObjectId conversion here\n",
    "        \n",
    "    # Split tags by commas and convert to list of dictionaries\n",
    "    new_tags = [{'tag': tag.strip()} for tag_list in item['tags'] for tag in tag_list.split(\",\")]\n",
    "    \n",
    "    # Debug: Show the tags that are about to be added\n",
    "    print(f\"Adding tags: {new_tags}\")\n",
    "    \n",
    "    # Use \"$addToSet\" with \"$each\" to add all new tags if they don't already exist\n",
    "    update_result = collection.update_one(query, {'$addToSet': {'machineTags': {'$each': new_tags}}})\n",
    "        \n",
    "    # Check if the document was updated\n",
    "    if update_result.modified_count > 0:\n",
    "        print(f\"Document with _id: {item['_id']} updated.\")\n",
    "    else:\n",
    "        print(f\"Document with _id: {item['_id']} not updated or tag(s) already exist.\")\n",
    "\n"
   ]
  }
 ],
 "metadata": {
  "kernelspec": {
   "display_name": "Python 3 (ipykernel)",
   "language": "python",
   "name": "python3"
  }
 },
 "nbformat": 4,
 "nbformat_minor": 4
}
