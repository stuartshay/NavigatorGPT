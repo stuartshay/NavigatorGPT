{
 "cells": [
  {
   "cell_type": "markdown",
   "metadata": {},
   "source": [
    "## Mongo DB - Geolocation"
   ]
  },
  {
   "cell_type": "code",
   "execution_count": 416,
   "metadata": {},
   "outputs": [
    {
     "name": "stdout",
     "output_type": "stream",
     "text": [
      "The MongoDB client has been initialized.\n",
      "The version of the pymongo package is 4.4.1\n"
     ]
    }
   ],
   "source": [
    "import json\n",
    "import pymongo\n",
    "import pandas as pd\n",
    "import pprint\n",
    "import os\n",
    "from pymongo import MongoClient, UpdateOne\n",
    "from bson.objectid import ObjectId\n",
    "from datetime import datetime\n",
    "\n",
    "# Load the MongoDB connection string from the JSON file\n",
    "PATH_TO_SECRET_JSON = '/home/jovyan/keys/mongodb_key.json'\n",
    "with open(PATH_TO_SECRET_JSON) as f:\n",
    "    MONGODB_URI = json.load(f)['connection_string']\n",
    "\n",
    "# Extract the database name from the connection string\n",
    "db_name = MONGODB_URI.split('/')[-1].split('?')[0]\n",
    "\n",
    "# Create a MongoDB client using the connection string\n",
    "if MONGODB_URI:\n",
    "    client = MongoClient(MONGODB_URI)\n",
    "    print(\"The MongoDB client has been initialized.\")\n",
    "else:\n",
    "    print(\"Failed to initialize the MongoDB client.\")\n",
    "\n",
    "# Print the version of the pymongo package\n",
    "pymongo_version = pymongo.__version__\n",
    "print(f\"The version of the pymongo package is {pymongo_version}\")\n",
    "\n",
    "# Connect to the specified MongoDB database and collection\n",
    "db = client[db_name]\n",
    "collection = db.attractions"
   ]
  },
  {
   "cell_type": "code",
   "execution_count": 424,
   "metadata": {},
   "outputs": [
    {
     "data": {
      "text/html": [
       "<div>\n",
       "<style scoped>\n",
       "    .dataframe tbody tr th:only-of-type {\n",
       "        vertical-align: middle;\n",
       "    }\n",
       "\n",
       "    .dataframe tbody tr th {\n",
       "        vertical-align: top;\n",
       "    }\n",
       "\n",
       "    .dataframe thead th {\n",
       "        text-align: right;\n",
       "    }\n",
       "</style>\n",
       "<table border=\"1\" class=\"dataframe\">\n",
       "  <thead>\n",
       "    <tr style=\"text-align: right;\">\n",
       "      <th></th>\n",
       "      <th>_id</th>\n",
       "      <th>title</th>\n",
       "    </tr>\n",
       "  </thead>\n",
       "  <tbody>\n",
       "    <tr>\n",
       "      <th>0</th>\n",
       "      <td>53668a995c959622000890a9</td>\n",
       "      <td>Balloon Flower (Red)</td>\n",
       "    </tr>\n",
       "    <tr>\n",
       "      <th>1</th>\n",
       "      <td>53668a995c959622000890b1</td>\n",
       "      <td>Dreaming of Far Away Places: The Ships Come to...</td>\n",
       "    </tr>\n",
       "    <tr>\n",
       "      <th>2</th>\n",
       "      <td>53668a995c959622000890b7</td>\n",
       "      <td>Five in One</td>\n",
       "    </tr>\n",
       "    <tr>\n",
       "      <th>3</th>\n",
       "      <td>54fbf93293a2b1e1e52db607</td>\n",
       "      <td>Double Check</td>\n",
       "    </tr>\n",
       "    <tr>\n",
       "      <th>4</th>\n",
       "      <td>5520244d610bf1c45d848a37</td>\n",
       "      <td>New York in Its Infancy</td>\n",
       "    </tr>\n",
       "  </tbody>\n",
       "</table>\n",
       "</div>"
      ],
      "text/plain": [
       "                        _id                                              title\n",
       "0  53668a995c959622000890a9                               Balloon Flower (Red)\n",
       "1  53668a995c959622000890b1  Dreaming of Far Away Places: The Ships Come to...\n",
       "2  53668a995c959622000890b7                                        Five in One\n",
       "3  54fbf93293a2b1e1e52db607                                       Double Check\n",
       "4  5520244d610bf1c45d848a37                            New York in Its Infancy"
      ]
     },
     "execution_count": 424,
     "metadata": {},
     "output_type": "execute_result"
    }
   ],
   "source": [
    "cursor = collection.find(\n",
    "    {\n",
    "        \"loc.geo\": {\n",
    "            \"$geoWithin\": { \n",
    "                \"$box\": [\n",
    "                   [-74.011941, 40.719226], [-74.000941, 40.709226]\n",
    "                ] \n",
    "            }\n",
    "        }\n",
    "    },\n",
    "    {\"_id\": 1, \"title\": 1}  # This is the projection parameter\n",
    ")\n",
    "\n",
    "results = []\n",
    "for doc in cursor:\n",
    "    results.append(doc)\n",
    "\n",
    "# Create a DataFrame\n",
    "df = pd.DataFrame(results)\n",
    "\n",
    "##markdown_table = df.to_markdown()\n",
    "##print(markdown_table)\n",
    "\n",
    "df.head(5)"
   ]
  },
  {
   "cell_type": "code",
   "execution_count": 425,
   "metadata": {},
   "outputs": [],
   "source": [
    "# Create a directory if it doesn't exist\n",
    "output_directory = \"../downloads/csv/\"\n",
    "os.makedirs(output_directory, exist_ok=True)\n",
    "\n",
    "# Generate the Excel file name with current date and time\n",
    "current_datetime = datetime.now().strftime(\"%Y_%m_%d_%H_%M_%S\")\n",
    "csv_filename = f\"attractions_{current_datetime}.csv\"\n",
    "csv_filepath = os.path.join(output_directory, csv_filename)\n",
    "\n",
    "# Save the DataFrame to an CSV file\n",
    "df.to_csv(csv_filepath, index=False)"
   ]
  }
 ],
 "metadata": {
  "kernelspec": {
   "display_name": "Python 3 (ipykernel)",
   "language": "python",
   "name": "python3"
  },
  "language_info": {
   "codemirror_mode": {
    "name": "ipython",
    "version": 3
   },
   "file_extension": ".py",
   "mimetype": "text/x-python",
   "name": "python",
   "nbconvert_exporter": "python",
   "pygments_lexer": "ipython3",
   "version": "3.9.7"
  },
  "orig_nbformat": 4
 },
 "nbformat": 4,
 "nbformat_minor": 2
}
