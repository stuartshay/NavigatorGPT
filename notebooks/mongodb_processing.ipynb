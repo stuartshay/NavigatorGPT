{
 "cells": [
  {
   "cell_type": "markdown",
   "id": "b4f45590",
   "metadata": {},
   "source": [
    "# NavigatorGPT - MongoDB Processing"
   ]
  },
  {
   "cell_type": "code",
   "execution_count": null,
   "id": "5b35e50e",
   "metadata": {},
   "outputs": [],
   "source": [
    "pip install openpyxl"
   ]
  },
  {
   "cell_type": "code",
   "execution_count": 661,
   "id": "bdca09ad",
   "metadata": {},
   "outputs": [
    {
     "name": "stdout",
     "output_type": "stream",
     "text": [
      "The MongoDB client has been initialized.\n",
      "The version of the pymongo package is 4.4.1\n"
     ]
    }
   ],
   "source": [
    "import json\n",
    "import pymongo\n",
    "import pandas as pd\n",
    "import pprint\n",
    "import os\n",
    "from pymongo import MongoClient, UpdateOne\n",
    "from bson.objectid import ObjectId\n",
    "from datetime import datetime\n",
    "\n",
    "# Load the MongoDB connection string from the JSON file\n",
    "PATH_TO_SECRET_JSON = '/home/jovyan/keys/mongodb_key.json'\n",
    "with open(PATH_TO_SECRET_JSON) as f:\n",
    "    MONGODB_URI = json.load(f)['connection_string']\n",
    "\n",
    "# Extract the database name from the connection string\n",
    "db_name = MONGODB_URI.split('/')[-1].split('?')[0]\n",
    "\n",
    "# Create a MongoDB client using the connection string\n",
    "if MONGODB_URI:\n",
    "    client = MongoClient(MONGODB_URI)\n",
    "    print(\"The MongoDB client has been initialized.\")\n",
    "else:\n",
    "    print(\"Failed to initialize the MongoDB client.\")\n",
    "\n",
    "# Print the version of the pymongo package\n",
    "pymongo_version = pymongo.__version__\n",
    "print(f\"The version of the pymongo package is {pymongo_version}\")\n",
    "\n",
    "# Connect to the specified MongoDB database and collection\n",
    "db = client[db_name]\n",
    "collection = db.attractions"
   ]
  },
  {
   "cell_type": "markdown",
   "id": "80107cfa",
   "metadata": {},
   "source": []
  },
  {
   "cell_type": "code",
   "execution_count": null,
   "id": "eaf12d73",
   "metadata": {},
   "outputs": [],
   "source": [
    "# Find the document with the specified Objectid in the 'attractions' collection\n",
    "document = collection.find_one({\"_id\": ObjectId(\"6450c55c3879cf70e53ff044\")})\n",
    "\n",
    "# Print the retrieved document\n",
    "pprint.pprint(document)\n"
   ]
  },
  {
   "cell_type": "markdown",
   "id": "2ba84789",
   "metadata": {},
   "source": [
    "**Description:**\n",
    "We have a dataset of attractions with specific fields to be updated in the database. Below is the dataset:"
   ]
  },
  {
   "cell_type": "code",
   "execution_count": 284,
   "id": "05d2f9a6",
   "metadata": {},
   "outputs": [],
   "source": [
    "data = [\n",
    "    {\n",
    "        \"id\": \"6432ea18a90bce6b6c83bacd\",\n",
    "        \"landmark.lpNumber\": \"LP-00597\",\n",
    "        \"landmark.landmarkType\": \"Individual Landmark\",\n",
    "        \"landmark.designationDate\": {\n",
    "            \"$date\": \"1970-08-18T00:00:00\"\n",
    "        }\n",
    "    },\n",
    "    {\n",
    "        \"id\": \"6451f7e53879cf70e53ff088\",\n",
    "        \"landmark.lpNumber\": \"LP-00599\",\n",
    "        \"landmark.landmarkType\": \"Individual Landmark\",\n",
    "        \"landmark.designationDate\": {\n",
    "            \"$date\": \"1970-03-31T00:00:00\"\n",
    "        }\n",
    "    },\n",
    "]\n",
    "\n"
   ]
  },
  {
   "cell_type": "code",
   "execution_count": null,
   "id": "beac6264",
   "metadata": {},
   "outputs": [],
   "source": [
    "data[:5]"
   ]
  },
  {
   "cell_type": "code",
   "execution_count": 663,
   "id": "f79e5207",
   "metadata": {},
   "outputs": [
    {
     "data": {
      "text/plain": [
       "[{'id': '64698bdd9e866c1d68eb577b', 'loc.bbl': 1008710010},\n",
       " {'id': '64a4b36ffc95c50bc98dcf99', 'loc.bbl': 3070710130},\n",
       " {'id': '645bf5b4e6fcaf3f17faafe6', 'loc.bbl': 1012580040},\n",
       " {'id': '64794de4426b0f007933dd03', 'loc.bbl': 1003920010},\n",
       " {'id': '6477aee6426b0f007933dce8', 'loc.bbl': 5000630050}]"
      ]
     },
     "execution_count": 663,
     "metadata": {},
     "output_type": "execute_result"
    }
   ],
   "source": [
    "# Read the JSON array from the file\n",
    "with open(\"../data/attractions/Location-Import_2023_10_02_03_05_00.json\", \"r\") as file:\n",
    "    data = json.load(file)\n",
    "    \n",
    "data[:5]"
   ]
  },
  {
   "cell_type": "markdown",
   "id": "826bcdf6",
   "metadata": {},
   "source": [
    "**Description:**\n",
    "Now, we'll loop through the dataset and update the records in the MongoDB collection."
   ]
  },
  {
   "cell_type": "code",
   "execution_count": 665,
   "id": "658287f2",
   "metadata": {},
   "outputs": [
    {
     "name": "stdout",
     "output_type": "stream",
     "text": [
      "Total records: 67\n",
      "Records updated: 0\n"
     ]
    }
   ],
   "source": [
    "from datetime import datetime\n",
    "\n",
    "# Initialize counters and operations list\n",
    "totalRecords = len(data)\n",
    "recordsUpdated = 0\n",
    "operations = []\n",
    "\n",
    "# Prepare bulk update operations for each record in data\n",
    "for item in data:\n",
    "    update_fields = {}\n",
    "\n",
    "    # Iterate over all keys in the item\n",
    "    for key, value in item.items():\n",
    "        # Skip 'id' key\n",
    "        if key == 'id':\n",
    "            continue\n",
    "\n",
    "        # Check if the value is a dictionary (nested dictionary in MongoDB)\n",
    "        if isinstance(value, dict):\n",
    "            for sub_key, sub_value in value.items():\n",
    "                # If the sub_key is \"$date\", convert the value to datetime\n",
    "                if sub_key == \"$date\":\n",
    "                    sub_value = datetime.fromisoformat(sub_value)\n",
    "                    key = key.replace(\".$date\", \"\")\n",
    "                update_fields[f\"{key}\"] = sub_value\n",
    "        else:\n",
    "            update_fields[key] = value\n",
    "\n",
    "    # Create the update operation\n",
    "    operations.append(\n",
    "        UpdateOne(\n",
    "            {\"_id\": ObjectId(item['id'])},\n",
    "            {\"$set\": update_fields},\n",
    "            upsert=True\n",
    "        )\n",
    "    )\n",
    "\n",
    "# Execute the update operations in bulk\n",
    "result = collection.bulk_write(operations)\n",
    "\n",
    "# Calculate the total records updated\n",
    "recordsUpdated = result.modified_count + len(result.upserted_ids)\n",
    "\n",
    "# Output the results\n",
    "print(f\"Total records: {totalRecords}\")\n",
    "print(f\"Records updated: {recordsUpdated}\")\n"
   ]
  },
  {
   "cell_type": "markdown",
   "id": "01ffbb7f",
   "metadata": {},
   "source": [
    "**Description:**\n",
    "Print out the results, showing the total number of records processed and the number of records updated."
   ]
  },
  {
   "cell_type": "code",
   "execution_count": 652,
   "id": "96f10bf2",
   "metadata": {},
   "outputs": [
    {
     "name": "stdout",
     "output_type": "stream",
     "text": [
      "Total records: 37\n",
      "Records updated: 17\n"
     ]
    }
   ],
   "source": [
    "print(f\"Total records: {totalRecords}\")\n",
    "print(f\"Records updated: {recordsUpdated}\")"
   ]
  }
 ],
 "metadata": {
  "kernelspec": {
   "display_name": "Python 3 (ipykernel)",
   "language": "python",
   "name": "python3"
  },
  "language_info": {
   "codemirror_mode": {
    "name": "ipython",
    "version": 3
   },
   "file_extension": ".py",
   "mimetype": "text/x-python",
   "name": "python",
   "nbconvert_exporter": "python",
   "pygments_lexer": "ipython3",
   "version": "3.9.7"
  }
 },
 "nbformat": 4,
 "nbformat_minor": 5
}
