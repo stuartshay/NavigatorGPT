{
 "cells": [
  {
   "cell_type": "markdown",
   "id": "b4f45590",
   "metadata": {},
   "source": [
    "# NavigatorGPT - MongoDB Processing"
   ]
  },
  {
   "cell_type": "code",
   "execution_count": 144,
   "id": "bdca09ad",
   "metadata": {},
   "outputs": [
    {
     "name": "stdout",
     "output_type": "stream",
     "text": [
      "The MongoDB client has been initialized.\n",
      "The version of the pymongo package is 4.4.1\n"
     ]
    }
   ],
   "source": [
    "import json\n",
    "import pymongo\n",
    "from pymongo import MongoClient, UpdateOne\n",
    "from bson.objectid import ObjectId\n",
    "\n",
    "# Load the MongoDB connection string from the JSON file\n",
    "PATH_TO_SECRET_JSON = '/home/jovyan/keys/mongodb_key.json'\n",
    "with open(PATH_TO_SECRET_JSON) as f:\n",
    "    MONGODB_URI = json.load(f)['connection_string']\n",
    "\n",
    "# Extract the database name from the connection string\n",
    "db_name = MONGODB_URI.split('/')[-1].split('?')[0]\n",
    "\n",
    "# Create a MongoDB client using the connection string\n",
    "if MONGODB_URI:\n",
    "    client = MongoClient(MONGODB_URI)\n",
    "    print(\"The MongoDB client has been initialized.\")\n",
    "else:\n",
    "    print(\"Failed to initialize the MongoDB client.\")\n",
    "\n",
    "# Print the version of the pymongo package\n",
    "pymongo_version = pymongo.__version__\n",
    "print(f\"The version of the pymongo package is {pymongo_version}\")\n",
    "\n",
    "# Connect to the specified MongoDB database and collection\n",
    "db = client[db_name]\n",
    "collection = db.attractions"
   ]
  },
  {
   "cell_type": "code",
   "execution_count": 146,
   "id": "eaf12d73",
   "metadata": {},
   "outputs": [
    {
     "name": "stdout",
     "output_type": "stream",
     "text": [
      "{'_id': ObjectId('6450c55c3879cf70e53ff044'), 'title': 'Schermerhorn Building', 'key': 'SchermerhornBuilding', 'featureKey': 'landmark', 'catalog': 'nycwayfinding', 'loc': {'lat': 40.72761, 'lon': -73.99378, 'location': '376-380 Lafayette Street', 'neighborhood': 'Greenwich Village', 'postalCode': '10012', 'city': 'New York', 'state': 'NY'}, 'map': {'center': {'latitude': 40.72761, 'longitude': -73.99378}, 'zoom': 17}, 'machineTags': [{'tag': 'nycwayfinding:lp=00193'}], 'photo': {'_id': ObjectId('649340baf86d4f4d60e5f631'), 'photoId': 52920417345, 'title': 'Schermerhorn Building', 'url': 'https://live.staticflickr.com/65535/52920417345_6a30663600_t.jpg', 'width': 100, 'height': 75}, 'inventory': {'styles': ['N/A'], 'architects': ['Henry J. Hardenbergh']}, 'aliases': ['376-380 Lafayette Street Building']}\n"
     ]
    }
   ],
   "source": [
    "# Find the document with the specified Objectid in the 'attractions' collection\n",
    "document = collection.find_one({\"_id\": ObjectId(\"6450c55c3879cf70e53ff044\")})\n",
    "\n",
    "# Print the retrieved document\n",
    "print(document)\n"
   ]
  },
  {
   "cell_type": "markdown",
   "id": "2ba84789",
   "metadata": {},
   "source": [
    "**Description:**\n",
    "We have a dataset of attractions with specific fields to be updated in the database. Below is the dataset:"
   ]
  },
  {
   "cell_type": "code",
   "execution_count": 157,
   "id": "05d2f9a6",
   "metadata": {},
   "outputs": [],
   "source": [
    "data = [\n",
    "\n",
    "{\"loc.boroughCode\": \"QN\", \"loc.neighborhood\": \"Astoria-Long Island City\", \"loc.city\": \"Queens\", \"loc.postalCode\": \"11102\", \"loc.park\": \"Athens Square\", \"loc.parkId\": \"Q436\", \"id\": \"56c162906e78364115ed877c\"},\n",
    "{\"loc.boroughCode\": \"QN\", \"loc.neighborhood\": \"Astoria-Long Island City\", \"loc.city\": \"Queens\", \"loc.postalCode\": \"11102\", \"loc.park\": \"Athens Square\", \"loc.parkId\": \"Q436\", \"id\": \"56bfcc5acd15882db4ad126a\"},\n",
    "{\"loc.boroughCode\": \"QN\", \"loc.neighborhood\": \"Astoria-Long Island City\", \"loc.city\": \"Queens\", \"loc.postalCode\": \"11102\", \"loc.park\": \"Athens Square\", \"loc.parkId\": \"Q436\", \"id\": \"56bfb26dcd15881fe4bbc059\"},\n",
    "{\"loc.boroughCode\": \"MN\", \"loc.neighborhood\": \"Central Park\", \"loc.city\": \"New York\", \"loc.postalCode\": \"10028\", \"loc.park\": \"Central Park\", \"loc.parkId\": \"M010\", \"id\": \"556aba26083cd88a44265d9a\"},\n",
    "{\"loc.boroughCode\": \"MN\", \"loc.neighborhood\": \"Central Park\", \"loc.city\": \"New York\", \"loc.postalCode\": \"10028\", \"loc.park\": \"Central Park\", \"loc.parkId\": \"M010\", \"id\": \"556ab0ab083cd88a44265d95\"},\n",
    "{\"loc.boroughCode\": \"MN\", \"loc.neighborhood\": \"Central Park\", \"loc.city\": \"New York\", \"loc.postalCode\": \"10028\", \"loc.park\": \"Central Park\", \"loc.parkId\": \"M010\", \"id\": \"556ab330083cd88a44265d96\"},\n",
    "{\"loc.boroughCode\": \"MN\", \"loc.neighborhood\": \"Central Park\", \"loc.city\": \"New York\", \"loc.postalCode\": \"10028\", \"loc.park\": \"Central Park\", \"loc.parkId\": \"M010\", \"id\": \"556ab480083cd88a44265d97\"},\n",
    "{\"loc.boroughCode\": \"MN\", \"loc.neighborhood\": \"Central Park\", \"loc.city\": \"New York\", \"loc.postalCode\": \"10028\", \"loc.park\": \"Central Park\", \"loc.parkId\": \"M010\", \"id\": \"556ab5e7083cd88a44265d98\"},\n",
    "{\"loc.boroughCode\": \"MN\", \"loc.neighborhood\": \"Central Park\", \"loc.city\": \"New York\", \"loc.postalCode\": \"10028\", \"loc.park\": \"Central Park\", \"loc.parkId\": \"M010\", \"id\": \"556ab827083cd88a44265d99\"},\n",
    "{\"loc.boroughCode\": \"MN\", \"loc.neighborhood\": \"Battery Park\", \"loc.city\": \"New York\", \"loc.postalCode\": \"10004\", \"loc.park\": \"The Battery\", \"loc.parkId\": \"M005\", \"id\": \"560f1d8df89701aedbaebc16\"},\n",
    "{\"loc.boroughCode\": \"MN\", \"loc.neighborhood\": \"Battery Park\", \"loc.city\": \"New York\", \"loc.postalCode\": \"10004\", \"loc.park\": \"The Battery\", \"loc.parkId\": \"M005\", \"id\": \"560f498cf89701aedbaebc34\"},\n",
    "{\"loc.boroughCode\": \"MN\", \"loc.neighborhood\": \"Battery Park\", \"loc.city\": \"New York\", \"loc.postalCode\": \"10004\", \"loc.park\": \"The Battery\", \"loc.parkId\": \"M005\", \"id\": \"5606c3cff89701aedbaebb79\"},\n",
    "{\"loc.boroughCode\": \"SI\", \"loc.neighborhood\": \"New Brighton\", \"loc.city\": \"Staten Island\", \"loc.postalCode\": \"10301\", \"loc.park\": \"Snug Harbor Cultural Center\", \"loc.parkId\": \"R116\", \"id\": \"56bf6c4bcd15881494a0f17a\"},\n",
    "{\"loc.boroughCode\": \"SI\", \"loc.neighborhood\": \"New Brighton\", \"loc.city\": \"Staten Island\", \"loc.postalCode\": \"10301\", \"loc.park\": \"Snug Harbor Cultural Center\", \"loc.parkId\": \"R116\", \"id\": \"56bf982ecd158827a80aef2b\"},\n",
    "{\"loc.boroughCode\": \"SI\", \"loc.neighborhood\": \"New Brighton\", \"loc.city\": \"Staten Island\", \"loc.postalCode\": \"10301\", \"loc.park\": \"Snug Harbor Cultural Center\", \"loc.parkId\": \"R116\", \"id\": \"56bf6c4bcd15881494a0f17c\"},\n",
    "{\"loc.boroughCode\": \"SI\", \"loc.neighborhood\": \"New Brighton\", \"loc.city\": \"Staten Island\", \"loc.postalCode\": \"10301\", \"loc.park\": \"Snug Harbor Cultural Center\", \"loc.parkId\": \"R116\", \"id\": \"56bf7b77cd15882bf4d3c14d\"},\n",
    "{\"loc.boroughCode\": \"MN\", \"loc.neighborhood\": \"Tribeca\", \"loc.city\": \"New York\", \"loc.postalCode\": \"10007\", \"loc.park\": \"City Hall Park\", \"loc.parkId\": \"M013\", \"id\": \"56b6d261cd1588295803c3a0\"},\n",
    "{\"loc.boroughCode\": \"MN\", \"loc.neighborhood\": \"Tribeca\", \"loc.city\": \"New York\", \"loc.postalCode\": \"10007\", \"loc.park\": \"City Hall Park\", \"loc.parkId\": \"M013\", \"id\": \"56b2d697cd158828b067f32e\"},\n",
    "{\"loc.boroughCode\": \"MN\", \"loc.neighborhood\": \"Tribeca\", \"loc.city\": \"New York\", \"loc.postalCode\": \"10007\", \"loc.park\": \"City Hall Park\", \"loc.parkId\": \"M013\", \"id\": \"56b7a32ecd15882aa09d717d\"},\n",
    "{\"loc.boroughCode\": \"MN\", \"loc.neighborhood\": \"Tribeca\", \"loc.city\": \"New York\", \"loc.postalCode\": \"10007\", \"loc.park\": \"City Hall Park\", \"loc.parkId\": \"M013\", \"id\": \"56b5ac0dcd158817d04f8b82\"},\n",
    "{\"loc.boroughCode\": \"MN\", \"loc.neighborhood\": \"Tribeca\", \"loc.city\": \"New York\", \"loc.postalCode\": \"10007\", \"loc.park\": \"City Hall Park\", \"loc.parkId\": \"M013\", \"id\": \"56b2d697cd158828b067f32f\"},\n",
    "{\"loc.boroughCode\": \"MN\", \"loc.neighborhood\": \"Tribeca\", \"loc.city\": \"New York\", \"loc.postalCode\": \"10007\", \"loc.park\": \"City Hall Park\", \"loc.parkId\": \"M013\", \"id\": \"56b2d697cd158828b067f330\"},\n",
    "{\"loc.boroughCode\": \"MN\", \"loc.neighborhood\": \"Tribeca\", \"loc.city\": \"New York\", \"loc.postalCode\": \"10007\", \"loc.park\": \"City Hall Park\", \"loc.parkId\": \"M013\", \"id\": \"56b6dd63cd15881694403c0d\"},\n",
    "{\"loc.boroughCode\": \"MN\", \"loc.neighborhood\": \"Tribeca\", \"loc.city\": \"New York\", \"loc.postalCode\": \"10007\", \"loc.park\": \"City Hall Park\", \"loc.parkId\": \"M013\", \"id\": \"56b2d697cd158828b067f331\"},\n",
    "{\"loc.boroughCode\": \"MN\", \"loc.neighborhood\": \"Tribeca\", \"loc.city\": \"New York\", \"loc.postalCode\": \"10007\", \"loc.park\": \"City Hall Park\", \"loc.parkId\": \"M013\", \"id\": \"56b79b58cd15882c90a3af05\"},\n",
    "{\"loc.boroughCode\": \"MN\", \"loc.neighborhood\": \"Tribeca\", \"loc.city\": \"New York\", \"loc.postalCode\": \"10007\", \"loc.park\": \"City Hall Park\", \"loc.parkId\": \"M013\", \"id\": \"56b2d697cd158828b067f332\"},\n",
    "{\"loc.boroughCode\": \"MN\", \"loc.neighborhood\": \"Tribeca\", \"loc.city\": \"New York\", \"loc.postalCode\": \"10007\", \"loc.park\": \"City Hall Park\", \"loc.parkId\": \"M013\", \"id\": \"56b570e2cd15880120dc35c3\"},\n",
    "{\"loc.boroughCode\": \"MN\", \"loc.neighborhood\": \"Tribeca\", \"loc.city\": \"New York\", \"loc.postalCode\": \"10007\", \"loc.park\": \"City Hall Park\", \"loc.parkId\": \"M013\", \"id\": \"56b560bdcd158825d839fb9a\"},\n",
    "{\"loc.boroughCode\": \"MN\", \"loc.neighborhood\": \"Tribeca\", \"loc.city\": \"New York\", \"loc.postalCode\": \"10007\", \"loc.park\": \"City Hall Park\", \"loc.parkId\": \"M013\", \"id\": \"644a1410e7abb0665474a28c\"}\n",
    "\n",
    "]"
   ]
  },
  {
   "cell_type": "markdown",
   "id": "826bcdf6",
   "metadata": {},
   "source": [
    "**Description:**\n",
    "Now, we'll loop through the dataset and update the records in the MongoDB collection."
   ]
  },
  {
   "cell_type": "code",
   "execution_count": 158,
   "id": "658287f2",
   "metadata": {},
   "outputs": [
    {
     "name": "stdout",
     "output_type": "stream",
     "text": [
      "Total records: 29\n",
      "Records updated: 29\n"
     ]
    }
   ],
   "source": [
    "# Initialize counters and operations list\n",
    "totalRecords = len(data)\n",
    "recordsUpdated = 0\n",
    "operations = []\n",
    "\n",
    "# Prepare bulk update operations for each record in data\n",
    "for item in data:\n",
    "    update_fields = {}\n",
    "\n",
    "    # Iterate over all keys in the item\n",
    "    for key, value in item.items():\n",
    "        # Check if the value is a dictionary (nested dictionary in MongoDB)\n",
    "        if isinstance(value, dict):\n",
    "            for sub_key, sub_value in value.items():\n",
    "                update_fields[f\"{key}.{sub_key}\"] = sub_value\n",
    "        else:\n",
    "            update_fields[key] = value\n",
    "\n",
    "    operations.append(\n",
    "        UpdateOne(\n",
    "            {\"_id\": ObjectId(item['id'])},  # corrected here\n",
    "            {\"$set\": update_fields},\n",
    "            upsert=True\n",
    "        )\n",
    "    )\n",
    "\n",
    "# Execute the update operations in bulk\n",
    "result = collection.bulk_write(operations)\n",
    "\n",
    "# Calculate the total records updated\n",
    "recordsUpdated = result.modified_count + len(result.upserted_ids)\n",
    "\n",
    "# Output the results\n",
    "print(f\"Total records: {totalRecords}\")\n",
    "print(f\"Records updated: {recordsUpdated}\")\n"
   ]
  },
  {
   "cell_type": "markdown",
   "id": "01ffbb7f",
   "metadata": {},
   "source": [
    "**Description:**\n",
    "Print out the results, showing the total number of records processed and the number of records updated."
   ]
  },
  {
   "cell_type": "code",
   "execution_count": 159,
   "id": "96f10bf2",
   "metadata": {},
   "outputs": [
    {
     "name": "stdout",
     "output_type": "stream",
     "text": [
      "Total records: 29\n",
      "Records updated: 29\n"
     ]
    }
   ],
   "source": [
    "print(f\"Total records: {totalRecords}\")\n",
    "print(f\"Records updated: {recordsUpdated}\")"
   ]
  }
 ],
 "metadata": {
  "kernelspec": {
   "display_name": "Python 3 (ipykernel)",
   "language": "python",
   "name": "python3"
  },
  "language_info": {
   "codemirror_mode": {
    "name": "ipython",
    "version": 3
   },
   "file_extension": ".py",
   "mimetype": "text/x-python",
   "name": "python",
   "nbconvert_exporter": "python",
   "pygments_lexer": "ipython3",
   "version": "3.9.7"
  }
 },
 "nbformat": 4,
 "nbformat_minor": 5
}
