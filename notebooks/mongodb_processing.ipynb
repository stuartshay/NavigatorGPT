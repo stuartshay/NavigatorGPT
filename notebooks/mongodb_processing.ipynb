{
 "cells": [
  {
   "cell_type": "markdown",
   "id": "b4f45590",
   "metadata": {},
   "source": [
    "# NavigatorGPT - MongoDB Processing"
   ]
  },
  {
   "cell_type": "code",
   "execution_count": null,
   "id": "5b35e50e",
   "metadata": {},
   "outputs": [],
   "source": [
    "pip install openpyxl"
   ]
  },
  {
   "cell_type": "code",
   "execution_count": 291,
   "id": "bdca09ad",
   "metadata": {},
   "outputs": [
    {
     "name": "stdout",
     "output_type": "stream",
     "text": [
      "The MongoDB client has been initialized.\n",
      "The version of the pymongo package is 4.4.1\n"
     ]
    }
   ],
   "source": [
    "import json\n",
    "import pymongo\n",
    "import pandas as pd\n",
    "import pprint\n",
    "import os\n",
    "from pymongo import MongoClient, UpdateOne\n",
    "from bson.objectid import ObjectId\n",
    "from datetime import datetime\n",
    "\n",
    "# Load the MongoDB connection string from the JSON file\n",
    "PATH_TO_SECRET_JSON = '/home/jovyan/keys/mongodb_key.json'\n",
    "with open(PATH_TO_SECRET_JSON) as f:\n",
    "    MONGODB_URI = json.load(f)['connection_string']\n",
    "\n",
    "# Extract the database name from the connection string\n",
    "db_name = MONGODB_URI.split('/')[-1].split('?')[0]\n",
    "\n",
    "# Create a MongoDB client using the connection string\n",
    "if MONGODB_URI:\n",
    "    client = MongoClient(MONGODB_URI)\n",
    "    print(\"The MongoDB client has been initialized.\")\n",
    "else:\n",
    "    print(\"Failed to initialize the MongoDB client.\")\n",
    "\n",
    "# Print the version of the pymongo package\n",
    "pymongo_version = pymongo.__version__\n",
    "print(f\"The version of the pymongo package is {pymongo_version}\")\n",
    "\n",
    "# Connect to the specified MongoDB database and collection\n",
    "db = client[db_name]\n",
    "collection = db.attractions"
   ]
  },
  {
   "cell_type": "code",
   "execution_count": 214,
   "id": "efafac5e",
   "metadata": {},
   "outputs": [
    {
     "name": "stdout",
     "output_type": "stream",
     "text": [
      "|     | _id                      | title                                                                    |\n",
      "|----:|:-------------------------|:-------------------------------------------------------------------------|\n",
      "|   0 | 53668a995c959622000890a9 | Balloon Flower (Red)                                                     |\n",
      "|   1 | 53668a995c959622000890b1 | Dreaming of Far Away Places: The Ships Come to Washington Market         |\n",
      "|   2 | 53668a995c959622000890b7 | Five in One                                                              |\n",
      "|   3 | 54fbf93293a2b1e1e52db607 | Double Check                                                             |\n",
      "|   4 | 5520244d610bf1c45d848a37 | New York in Its Infancy                                                  |\n",
      "|   5 | 55220b33610bf1c45d848a3c | Civic Fame                                                               |\n",
      "|   6 | 55220d6d610bf1c45d848a3f | Entrance to Municipal Office Building                                    |\n",
      "|   7 | 5522120a610bf1c45d848a43 | Chambers Street Archway                                                  |\n",
      "|   8 | 55221308610bf1c45d848a46 | Progress                                                                 |\n",
      "|   9 | 552213bb610bf1c45d848a49 | Prudence                                                                 |\n",
      "|  10 | 55221477610bf1c45d848a4b | Civic Pride                                                              |\n",
      "|  11 | 552214f3610bf1c45d848a4d | Civic Duty                                                               |\n",
      "|  12 | 5523615d610bf1c45d848a50 | The Comptroller                                                          |\n",
      "|  13 | 5523635e610bf1c45d848a52 | Water Supply                                                             |\n",
      "|  14 | 55236415610bf1c45d848a54 | Elections                                                                |\n",
      "|  15 | 552364aa610bf1c45d848a56 | Licenses                                                                 |\n",
      "|  16 | 5523657c610bf1c45d848a58 | Civil Service                                                            |\n",
      "|  17 | 55236623610bf1c45d848a5a | Sheriff                                                                  |\n",
      "|  18 | 552366d5610bf1c45d848a5c | Records                                                                  |\n",
      "|  19 | 55236818610bf1c45d848a5e | Accounts                                                                 |\n",
      "|  20 | 552369f5610bf1c45d848a60 | Corrections                                                              |\n",
      "|  21 | 55236bfc610bf1c45d848a64 | Public Service Commission                                                |\n",
      "|  22 | 5524ac0e610bf1c45d848a6e | Brotherhood of Man                                                       |\n",
      "|  23 | 5524b0b3610bf1c45d848a71 | Four Periods of Publicity                                                |\n",
      "|  24 | 5524b5b1610bf1c45d848a75 | Acrobat in the Ring                                                      |\n",
      "|  25 | 5524b933610bf1c45d848a78 | The Four Elements                                                        |\n",
      "|  26 | 5524c091610bf1c45d848a83 | Law                                                                      |\n",
      "|  27 | 55259696912913b260eb75c5 | James Duane                                                              |\n",
      "|  28 | 552596fe912913b260eb75c7 | Commerce                                                                 |\n",
      "|  29 | 55259777912913b260eb75c9 | Sculpture                                                                |\n",
      "|  30 | 5525f330912913b260eb75ec | Frog & Bee                                                               |\n",
      "|  31 | 552603c2912913b260eb75fc | Unity of the Family                                                      |\n",
      "|  32 | 552ea5d3912913b260eb769f | Authority                                                                |\n",
      "|  33 | 55341053912913b260eb771c | Justice                                                                  |\n",
      "|  34 | 55341173912913b260eb771d | Justice                                                                  |\n",
      "|  35 | 55418b4c083cd88a44265cec | Manhattan Sentinels                                                      |\n",
      "|  36 | 5546f5f6083cd88a44265d00 | Park Row Building Cupola Figures                                         |\n",
      "|  37 | 555aa298083cd88a44265d4c | Heaven and Earth                                                         |\n",
      "|  38 | 555aa4e4083cd88a44265d4d | Dreaming of Faraway Places: Views of Washington Market through the Years |\n",
      "|  39 | 555aa8cb083cd88a44265d4f | Icarus                                                                   |\n",
      "|  40 | 55c58c7dcfb85dbff51368d0 | Surrogate's Court: Philosophy                                            |\n",
      "|  41 | 55c59067cfb85dbff51368d4 | Surrogate's Court: Poetry                                                |\n",
      "|  42 | 55c59359cfb85dbff51368d6 | Surrogate's Court: Architecture                                          |\n",
      "|  43 | 55c5b4a2cfb85dbff51368d8 | Surrogate's Court: Abram Stevens Hewitt                                  |\n",
      "|  44 | 55c5b57fcfb85dbff51368d9 | Surrogate's Court: Philip Hone                                           |\n",
      "|  45 | 55c5b63ccfb85dbff51368da | Surrogate's Court: Peter Stuyvesant                                      |\n",
      "|  46 | 55c5b8cecfb85dbff51368dc | Surrogate's Court: Cadwallader David Colden                              |\n",
      "|  47 | 55c5b978cfb85dbff51368dd | Surrogate's Court: James Duane                                           |\n",
      "|  48 | 55c78476cfb85dbff51368e1 | Surrogate's Court: Caleb Heathcote                                       |\n",
      "|  49 | 55c7867ecfb85dbff51368e3 | Surrogate's Court: David Pietersen De Vries                              |\n",
      "|  50 | 55c78783cfb85dbff51368e5 | Surrogate's Court: Music                                                 |\n",
      "|  51 | 55c78d00cfb85dbff51368e7 | Surrogate's Court: Industrial Art                                        |\n",
      "|  52 | 55c78e15cfb85dbff51368e9 | Surrogate's Court: Navigation                                            |\n",
      "|  53 | 55c78fa5cfb85dbff51368eb | Surrogate's Court: Commerce                                              |\n",
      "|  54 | 55c790a1cfb85dbff51368ee | Surrogate's Court: Industry                                              |\n",
      "|  55 | 55c79136cfb85dbff51368ef | Surrogate's Court: Medicine                                              |\n",
      "|  56 | 55c7b011cfb85dbff51368f1 | Surrogate's Court: Chemistry                                             |\n",
      "|  57 | 55c7b110cfb85dbff51368f2 | Surrogate's Court: Keeper of the Rolls                                   |\n",
      "|  58 | 55c7b185cfb85dbff51368f3 | Surrogate's Court: Recorder                                              |\n",
      "|  59 | 55c7ffbacfb85dbff51368f9 | Benjamin Franklin                                                        |\n",
      "|  60 | 55c80e6acfb85dbff5136901 | Pediment for the New York County Courthouse                              |\n",
      "|  61 | 55d3dd81f58614cf075b7456 | Justice                                                                  |\n",
      "|  62 | 55f45479f58614cf075b7621 | African Burial Ground National Monument                                  |\n",
      "|  63 | 55f71a4ff58614cf075b763b | New York City Hall                                                       |\n",
      "|  64 | 55fa102bf58614cf075b768b | Old New York County Courthouse                                           |\n",
      "|  65 | 5615e828f89701aedbaebc64 | Chambers Street Subway station (Dual System BMT)                         |\n",
      "|  66 | 5621cfcff89701aedbaebca6 | US Courthouse                                                            |\n",
      "|  67 | 562336b9f89701aedbaebcb6 | Woolworth Building                                                       |\n",
      "|  68 | 5625a2baf89701aedbaebccc | Surrogate's Court                                                        |\n",
      "|  69 | 56b2d697cd158828b067f32e | City Hall Park Fountain                                                  |\n",
      "|  70 | 56b2d697cd158828b067f32f | Debs Myers                                                               |\n",
      "|  71 | 56b2d697cd158828b067f330 | Horace Greeley                                                           |\n",
      "|  72 | 56b2d697cd158828b067f331 | Joseph Pulitzer                                                          |\n",
      "|  73 | 56b2d697cd158828b067f332 | Marie Sklodowska Curie                                                   |\n",
      "|  74 | 56b560bdcd158825d839fb9a | Provost Prison                                                           |\n",
      "|  75 | 56b56a84cd1588242cef2691 | Triumph of the Human Spirit                                              |\n",
      "|  76 | 56b570e2cd15880120dc35c3 | Nathan Hale                                                              |\n",
      "|  77 | 56b5ac0dcd158817d04f8b82 | Crime Victims Memorial                                                   |\n",
      "|  78 | 56b68230cd15882c40f88b13 | Duane Park Plaques                                                       |\n",
      "|  79 | 56b6d261cd1588295803c3a0 | Canadian Burr Oak                                                        |\n",
      "|  80 | 56b6dd63cd15881694403c0d | Jane Addams Memorial                                                     |\n",
      "|  81 | 56b79b58cd15882c90a3af05 | Liberty Flagstaff                                                        |\n",
      "|  82 | 56b7a32ecd15882aa09d717d | Civil Engineers Plaque                                                   |\n",
      "|  83 | 56b7b9eccd15882d3ca4a1ad | Foley Square Medallions                                                  |\n",
      "|  84 | 56c161036e78364115ed8777 | Millennial Clock                                                         |\n",
      "|  85 | 56c8250c62a3debc2b358e75 | Sugar House Prison Window                                                |\n",
      "|  86 | 56cd4b8162a3debc2b358f07 | New York In Revolutionary Times                                          |\n",
      "|  87 | 56d11ba862a3debc2b358f69 | Rhinelander Columns                                                      |\n",
      "|  88 | 56d1675a62a3debc2b358f6c | Abraham De Peyster                                                       |\n",
      "|  89 | 64341a6da90bce6b6c83bb11 | New York County Courthouse                                               |\n",
      "|  90 | 6441b3bb94494a7b43e4833c | Home Life Insurance Company Building                                     |\n",
      "|  91 | 64420d5394494a7b43e48345 | Emigrant Industrial Savings Bank Building                                |\n",
      "|  92 | 64420e4994494a7b43e48346 | New York Evening Post Building                                           |\n",
      "|  93 | 6442b28294494a7b43e4834c | Fire Engine Company No. 31                                               |\n",
      "|  94 | 6442f7f794494a7b43e48352 | New York County Lawyers' Association Building                            |\n",
      "|  95 | 6444e141e7abb0665474a211 | John Wesley                                                              |\n",
      "|  96 | 644a1410e7abb0665474a28c | Subway Tablet (Underground Railway)                                      |\n",
      "|  97 | 644b1e51e7abb0665474a295 | Park Row Building                                                        |\n",
      "|  98 | 644b4fc83879cf70e53ff010 | American Telephone & Telegraph Company Building                          |\n",
      "|  99 | 6451dc383879cf70e53ff07f | Firehouse Engine Company 29 (Former)                                     |\n",
      "| 100 | 6451de313879cf70e53ff081 | Fire Engine Company No. 7/Hook & Ladder Company No1                      |\n",
      "| 101 | 645313d73879cf70e53ff0a9 | Corbin Building                                                          |\n",
      "| 102 | 6456fd6f4673c82a34f4ecda | New York Times Building                                                  |\n",
      "| 103 | 6457048d4673c82a34f4ecdd | New York Life Insurance Company Building                                 |\n",
      "| 104 | 645708c84673c82a34f4ecdf | Cary Building                                                            |\n",
      "| 105 | 64570add4673c82a34f4ece0 | A. T. Stewart Store                                                      |\n",
      "| 106 | 645920494673c82a34f4ecfb | American Tract Society Building                                          |\n",
      "| 107 | 6459dff34673c82a34f4ed18 | Ahrens Building                                                          |\n",
      "| 108 | 6463327f6117d262815b105f | Hopkins Store                                                            |\n",
      "| 109 | 646338a86117d262815b1064 | Broadway-Chambers Building                                               |\n",
      "| 110 | 6463489f6117d262815b1067 | 254-260 Canal Street                                                     |\n",
      "| 111 | 6463daac6117d262815b1074 | Condict Store                                                            |\n",
      "| 112 | 6463db686117d262815b1075 | Woods Mercantile Buildings                                               |\n",
      "| 113 | 6463dc266117d262815b1076 | Kitchen, Montross & Wilcox Store                                         |\n",
      "| 114 | 6463dcc16117d262815b1077 | David S. Brown Store                                                     |\n",
      "| 115 | 6463e0276117d262815b1079 | Mutual Reserve Fund Life Association Building                            |\n",
      "| 116 | 6463e0b46117d262815b107a | Rogers, Peet & Company Building                                          |\n",
      "| 117 | 6463e2fc6117d262815b107b | Western Union Building                                                   |\n",
      "| 118 | 6463e5216117d262815b107c | 361 Broadway Building                                                    |\n",
      "| 119 | 646c111e9e866c1d68eb57ab | Municipal Building                                                       |\n",
      "| 120 | 646d015f9e866c1d68eb57df | 319 Broadway Building                                                    |\n",
      "| 121 | 646e2aef9e866c1d68eb5826 | 287 Broadway Building                                                    |\n",
      "| 122 | 646e2d1d9e866c1d68eb5829 | 359 Broadway Building                                                    |\n",
      "| 123 | 646e2e5d9e866c1d68eb582a | 311 Broadway Building                                                    |\n",
      "| 124 | 646e2f279e866c1d68eb582b | 325-333 Broadway Building                                                |\n",
      "| 125 | 646e33049e866c1d68eb5831 | 315 Broadway Building                                                    |\n",
      "| 126 | 646e34909e866c1d68eb5832 | 39 Worth Street Building                                                 |\n",
      "| 127 | 646e35389e866c1d68eb5833 | 41 Worth Street Building                                                 |\n",
      "| 128 | 646e35fc9e866c1d68eb5834 | 175 West Broadway Building                                               |\n",
      "| 129 | 646e36d19e866c1d68eb5836 | Swift, Seaman & Company Building                                         |\n",
      "| 130 | 646ed9169e866c1d68eb583e | Potter Building                                                          |\n",
      "| 131 | 646eda609e866c1d68eb583f | Morse Building                                                           |\n",
      "| 132 | 646faa769e866c1d68eb5842 | 25 Park Place Building                                                   |\n",
      "| 133 | 646fab3a9e866c1d68eb5843 | 23 Park Place Building                                                   |\n",
      "| 134 | 646fabf79e866c1d68eb5844 | Bennett Building                                                         |\n",
      "| 135 | 64700b3e9e866c1d68eb5860 | 63 Nassau Street Building                                                |\n",
      "| 136 | 6473dfa8426b0f007933dcce | 27 Harrison Street House                                                 |\n",
      "| 137 | 647ba3d6426b0f007933dd66 | 94-100 Lafayette Street Building                                         |\n",
      "| 138 | 647bdb18426b0f007933dda3 | 27A Harrison Street House                                                |\n",
      "| 139 | 647bdbf6426b0f007933dda4 | 25 Harrison Street House                                                 |\n",
      "| 140 | 647bdcad426b0f007933dda5 | 29 Harrison Street House                                                 |\n",
      "| 141 | 648a50e77c55b27c2c708013 | Saint Peter's Roman Catholic Church                                      |\n",
      "| 142 | 648a89d57c55b27c2c708023 | Temple Court Building and Annex                                          |\n",
      "| 143 | 648d4f5b7c55b27c2c708070 | Saint Paul's Chapel and Graveyard                                        |\n",
      "| 144 | 648d53467c55b27c2c708071 | Keuffel & Esser Company Building                                         |\n",
      "| 145 | 6490049f13f51e5a4696f260 | 37 Harrison Street House                                                 |\n",
      "| 146 | 6490052f13f51e5a4696f261 | 39 Harrison Street House                                                 |\n",
      "| 147 | 6490059b13f51e5a4696f262 | 41 Harrison Street House                                                 |\n",
      "| 148 | 6490061313f51e5a4696f263 | 31 Harrison Street House                                                 |\n",
      "| 149 | 6490068313f51e5a4696f264 | 33 Harrison Street House                                                 |\n",
      "| 150 | 65106e6af43b01079b01ea40 | City Hall Station                                                        |\n"
     ]
    }
   ],
   "source": [
    "cursor = collection.find(\n",
    "    {\n",
    "        \"loc.geo\": {\n",
    "            \"$geoWithin\": { \n",
    "                \"$box\": [\n",
    "                   [-74.011941, 40.719226], [-74.000941, 40.709226]\n",
    "                ] \n",
    "            }\n",
    "        }\n",
    "    },\n",
    "    {\"_id\": 1, \"title\": 1}  # This is the projection parameter\n",
    ")\n",
    "\n",
    "results = []\n",
    "for doc in cursor:\n",
    "    results.append(doc)\n",
    "\n",
    "# Create a DataFrame\n",
    "df = pd.DataFrame(results)\n",
    "\n",
    "markdown_table = df.to_markdown()\n",
    "\n",
    "print(markdown_table)"
   ]
  },
  {
   "cell_type": "markdown",
   "id": "62600288",
   "metadata": {},
   "source": [
    "### CSV Processing"
   ]
  },
  {
   "cell_type": "code",
   "execution_count": 59,
   "id": "a1a83cb6",
   "metadata": {},
   "outputs": [],
   "source": [
    "# Create a directory if it doesn't exist\n",
    "output_directory = \"../downloads/csv/\"\n",
    "os.makedirs(output_directory, exist_ok=True)\n",
    "\n",
    "# Generate the Excel file name with current date and time\n",
    "current_datetime = datetime.now().strftime(\"%Y_%m_%d_%H_%M_%S\")\n",
    "csv_filename = f\"attractions_{current_datetime}.csv\"\n",
    "csv_filepath = os.path.join(output_directory, csv_filename)\n",
    "\n",
    "# Save the DataFrame to an CSV file\n",
    "df.to_csv(csv_filepath, index=False)"
   ]
  },
  {
   "cell_type": "markdown",
   "id": "80107cfa",
   "metadata": {},
   "source": []
  },
  {
   "cell_type": "code",
   "execution_count": null,
   "id": "eaf12d73",
   "metadata": {},
   "outputs": [],
   "source": [
    "# Find the document with the specified Objectid in the 'attractions' collection\n",
    "document = collection.find_one({\"_id\": ObjectId(\"6450c55c3879cf70e53ff044\")})\n",
    "\n",
    "# Print the retrieved document\n",
    "pprint.pprint(document)\n"
   ]
  },
  {
   "cell_type": "markdown",
   "id": "2ba84789",
   "metadata": {},
   "source": [
    "**Description:**\n",
    "We have a dataset of attractions with specific fields to be updated in the database. Below is the dataset:"
   ]
  },
  {
   "cell_type": "code",
   "execution_count": 284,
   "id": "05d2f9a6",
   "metadata": {},
   "outputs": [],
   "source": [
    "data = [\n",
    "    {\n",
    "        \"id\": \"6432ea18a90bce6b6c83bacd\",\n",
    "        \"landmark.lpNumber\": \"LP-00597\",\n",
    "        \"landmark.landmarkType\": \"Individual Landmark\",\n",
    "        \"landmark.designationDate\": {\n",
    "            \"$date\": \"1970-08-18T00:00:00\"\n",
    "        }\n",
    "    },\n",
    "    {\n",
    "        \"id\": \"6451f7e53879cf70e53ff088\",\n",
    "        \"landmark.lpNumber\": \"LP-00599\",\n",
    "        \"landmark.landmarkType\": \"Individual Landmark\",\n",
    "        \"landmark.designationDate\": {\n",
    "            \"$date\": \"1970-03-31T00:00:00\"\n",
    "        }\n",
    "    },\n",
    "]\n",
    "\n"
   ]
  },
  {
   "cell_type": "code",
   "execution_count": 285,
   "id": "beac6264",
   "metadata": {},
   "outputs": [
    {
     "data": {
      "text/plain": [
       "[{'id': '6432ea18a90bce6b6c83bacd',\n",
       "  'landmark.lpNumber': 'LP-00597',\n",
       "  'landmark.landmarkType': 'Individual Landmark',\n",
       "  'landmark.designationDate': {'$date': '1970-08-18T00:00:00'}},\n",
       " {'id': '6451f7e53879cf70e53ff088',\n",
       "  'landmark.lpNumber': 'LP-00599',\n",
       "  'landmark.landmarkType': 'Individual Landmark',\n",
       "  'landmark.designationDate': {'$date': '1970-03-31T00:00:00'}}]"
      ]
     },
     "execution_count": 285,
     "metadata": {},
     "output_type": "execute_result"
    }
   ],
   "source": [
    "data[:5]"
   ]
  },
  {
   "cell_type": "code",
   "execution_count": 341,
   "id": "f79e5207",
   "metadata": {},
   "outputs": [
    {
     "data": {
      "text/plain": [
       "[{'id': '6487fdc23ee0be65782261ba',\n",
       "  'landmark.lpNumber': 'LP-01133',\n",
       "  'landmark.landmarkType': 'Individual Landmark',\n",
       "  'landmark.designationDate': {'$date': '1981-02-03T00:00:00'}},\n",
       " {'id': '6487fc133ee0be65782261b8',\n",
       "  'landmark.lpNumber': 'LP-01134',\n",
       "  'landmark.landmarkType': 'Individual Landmark',\n",
       "  'landmark.designationDate': {'$date': '1981-02-03T00:00:00'}},\n",
       " {'id': '6487e7313ee0be65782261b2',\n",
       "  'landmark.lpNumber': 'LP-01135',\n",
       "  'landmark.landmarkType': 'Individual Landmark',\n",
       "  'landmark.designationDate': {'$date': '1981-08-11T00:00:00'}},\n",
       " {'id': '648b67a87c55b27c2c708030',\n",
       "  'landmark.lpNumber': 'LP-01137',\n",
       "  'landmark.landmarkType': 'Individual Landmark',\n",
       "  'landmark.designationDate': {'$date': '1981-08-11T00:00:00'}},\n",
       " {'id': '648b69f47c55b27c2c708031',\n",
       "  'landmark.lpNumber': 'LP-01138',\n",
       "  'landmark.landmarkType': 'Individual Landmark',\n",
       "  'landmark.designationDate': {'$date': '1981-08-11T00:00:00'}}]"
      ]
     },
     "execution_count": 341,
     "metadata": {},
     "output_type": "execute_result"
    }
   ],
   "source": [
    "# Read the JSON array from the file\n",
    "with open(\"../data/attractions/Location-Import_2023_09_30_19_48_58.json\", \"r\") as file:\n",
    "    data = json.load(file)\n",
    "    \n",
    "data[:5]"
   ]
  },
  {
   "cell_type": "markdown",
   "id": "826bcdf6",
   "metadata": {},
   "source": [
    "**Description:**\n",
    "Now, we'll loop through the dataset and update the records in the MongoDB collection."
   ]
  },
  {
   "cell_type": "code",
   "execution_count": 342,
   "id": "658287f2",
   "metadata": {},
   "outputs": [
    {
     "ename": "InvalidId",
     "evalue": "'554c0866083cd88a44265d1c ' is not a valid ObjectId, it must be a 12-byte input or a 24-character hex string",
     "output_type": "error",
     "traceback": [
      "\u001b[0;31m---------------------------------------------------------------------------\u001b[0m",
      "\u001b[0;31mInvalidId\u001b[0m                                 Traceback (most recent call last)",
      "\u001b[0;32m/tmp/ipykernel_414/2625822118.py\u001b[0m in \u001b[0;36m<module>\u001b[0;34m\u001b[0m\n\u001b[1;32m     30\u001b[0m     operations.append(\n\u001b[1;32m     31\u001b[0m         UpdateOne(\n\u001b[0;32m---> 32\u001b[0;31m             \u001b[0;34m{\u001b[0m\u001b[0;34m\"_id\"\u001b[0m\u001b[0;34m:\u001b[0m \u001b[0mObjectId\u001b[0m\u001b[0;34m(\u001b[0m\u001b[0mitem\u001b[0m\u001b[0;34m[\u001b[0m\u001b[0;34m'id'\u001b[0m\u001b[0;34m]\u001b[0m\u001b[0;34m)\u001b[0m\u001b[0;34m}\u001b[0m\u001b[0;34m,\u001b[0m\u001b[0;34m\u001b[0m\u001b[0;34m\u001b[0m\u001b[0m\n\u001b[0m\u001b[1;32m     33\u001b[0m             \u001b[0;34m{\u001b[0m\u001b[0;34m\"$set\"\u001b[0m\u001b[0;34m:\u001b[0m \u001b[0mupdate_fields\u001b[0m\u001b[0;34m}\u001b[0m\u001b[0;34m,\u001b[0m\u001b[0;34m\u001b[0m\u001b[0;34m\u001b[0m\u001b[0m\n\u001b[1;32m     34\u001b[0m             \u001b[0mupsert\u001b[0m\u001b[0;34m=\u001b[0m\u001b[0;32mTrue\u001b[0m\u001b[0;34m\u001b[0m\u001b[0;34m\u001b[0m\u001b[0m\n",
      "\u001b[0;32m/opt/conda/lib/python3.9/site-packages/bson/objectid.py\u001b[0m in \u001b[0;36m__init__\u001b[0;34m(self, oid)\u001b[0m\n\u001b[1;32m    100\u001b[0m             \u001b[0mself\u001b[0m\u001b[0;34m.\u001b[0m\u001b[0m__id\u001b[0m \u001b[0;34m=\u001b[0m \u001b[0moid\u001b[0m\u001b[0;34m\u001b[0m\u001b[0;34m\u001b[0m\u001b[0m\n\u001b[1;32m    101\u001b[0m         \u001b[0;32melse\u001b[0m\u001b[0;34m:\u001b[0m\u001b[0;34m\u001b[0m\u001b[0;34m\u001b[0m\u001b[0m\n\u001b[0;32m--> 102\u001b[0;31m             \u001b[0mself\u001b[0m\u001b[0;34m.\u001b[0m\u001b[0m__validate\u001b[0m\u001b[0;34m(\u001b[0m\u001b[0moid\u001b[0m\u001b[0;34m)\u001b[0m\u001b[0;34m\u001b[0m\u001b[0;34m\u001b[0m\u001b[0m\n\u001b[0m\u001b[1;32m    103\u001b[0m \u001b[0;34m\u001b[0m\u001b[0m\n\u001b[1;32m    104\u001b[0m     \u001b[0;34m@\u001b[0m\u001b[0mclassmethod\u001b[0m\u001b[0;34m\u001b[0m\u001b[0;34m\u001b[0m\u001b[0m\n",
      "\u001b[0;32m/opt/conda/lib/python3.9/site-packages/bson/objectid.py\u001b[0m in \u001b[0;36m__validate\u001b[0;34m(self, oid)\u001b[0m\n\u001b[1;32m    199\u001b[0m                     \u001b[0m_raise_invalid_id\u001b[0m\u001b[0;34m(\u001b[0m\u001b[0moid\u001b[0m\u001b[0;34m)\u001b[0m\u001b[0;34m\u001b[0m\u001b[0;34m\u001b[0m\u001b[0m\n\u001b[1;32m    200\u001b[0m             \u001b[0;32melse\u001b[0m\u001b[0;34m:\u001b[0m\u001b[0;34m\u001b[0m\u001b[0;34m\u001b[0m\u001b[0m\n\u001b[0;32m--> 201\u001b[0;31m                 \u001b[0m_raise_invalid_id\u001b[0m\u001b[0;34m(\u001b[0m\u001b[0moid\u001b[0m\u001b[0;34m)\u001b[0m\u001b[0;34m\u001b[0m\u001b[0;34m\u001b[0m\u001b[0m\n\u001b[0m\u001b[1;32m    202\u001b[0m         \u001b[0;32melse\u001b[0m\u001b[0;34m:\u001b[0m\u001b[0;34m\u001b[0m\u001b[0;34m\u001b[0m\u001b[0m\n\u001b[1;32m    203\u001b[0m             \u001b[0;32mraise\u001b[0m \u001b[0mTypeError\u001b[0m\u001b[0;34m(\u001b[0m\u001b[0;34mf\"id must be an instance of (bytes, str, ObjectId), not {type(oid)}\"\u001b[0m\u001b[0;34m)\u001b[0m\u001b[0;34m\u001b[0m\u001b[0;34m\u001b[0m\u001b[0m\n",
      "\u001b[0;32m/opt/conda/lib/python3.9/site-packages/bson/objectid.py\u001b[0m in \u001b[0;36m_raise_invalid_id\u001b[0;34m(oid)\u001b[0m\n\u001b[1;32m     32\u001b[0m \u001b[0;34m\u001b[0m\u001b[0m\n\u001b[1;32m     33\u001b[0m \u001b[0;32mdef\u001b[0m \u001b[0m_raise_invalid_id\u001b[0m\u001b[0;34m(\u001b[0m\u001b[0moid\u001b[0m\u001b[0;34m:\u001b[0m \u001b[0mstr\u001b[0m\u001b[0;34m)\u001b[0m \u001b[0;34m->\u001b[0m \u001b[0mNoReturn\u001b[0m\u001b[0;34m:\u001b[0m\u001b[0;34m\u001b[0m\u001b[0;34m\u001b[0m\u001b[0m\n\u001b[0;32m---> 34\u001b[0;31m     raise InvalidId(\n\u001b[0m\u001b[1;32m     35\u001b[0m         \u001b[0;34m\"%r is not a valid ObjectId, it must be a 12-byte input\"\u001b[0m\u001b[0;34m\u001b[0m\u001b[0;34m\u001b[0m\u001b[0m\n\u001b[1;32m     36\u001b[0m         \u001b[0;34m\" or a 24-character hex string\"\u001b[0m \u001b[0;34m%\u001b[0m \u001b[0moid\u001b[0m\u001b[0;34m\u001b[0m\u001b[0;34m\u001b[0m\u001b[0m\n",
      "\u001b[0;31mInvalidId\u001b[0m: '554c0866083cd88a44265d1c ' is not a valid ObjectId, it must be a 12-byte input or a 24-character hex string"
     ]
    }
   ],
   "source": [
    "from datetime import datetime\n",
    "\n",
    "# Initialize counters and operations list\n",
    "totalRecords = len(data)\n",
    "recordsUpdated = 0\n",
    "operations = []\n",
    "\n",
    "# Prepare bulk update operations for each record in data\n",
    "for item in data:\n",
    "    update_fields = {}\n",
    "\n",
    "    # Iterate over all keys in the item\n",
    "    for key, value in item.items():\n",
    "        # Skip 'id' key\n",
    "        if key == 'id':\n",
    "            continue\n",
    "\n",
    "        # Check if the value is a dictionary (nested dictionary in MongoDB)\n",
    "        if isinstance(value, dict):\n",
    "            for sub_key, sub_value in value.items():\n",
    "                # If the sub_key is \"$date\", convert the value to datetime\n",
    "                if sub_key == \"$date\":\n",
    "                    sub_value = datetime.fromisoformat(sub_value)\n",
    "                    key = key.replace(\".$date\", \"\")\n",
    "                update_fields[f\"{key}\"] = sub_value\n",
    "        else:\n",
    "            update_fields[key] = value\n",
    "\n",
    "    # Create the update operation\n",
    "    operations.append(\n",
    "        UpdateOne(\n",
    "            {\"_id\": ObjectId(item['id'])},\n",
    "            {\"$set\": update_fields},\n",
    "            upsert=True\n",
    "        )\n",
    "    )\n",
    "\n",
    "# Execute the update operations in bulk\n",
    "result = collection.bulk_write(operations)\n",
    "\n",
    "# Calculate the total records updated\n",
    "recordsUpdated = result.modified_count + len(result.upserted_ids)\n",
    "\n",
    "# Output the results\n",
    "print(f\"Total records: {totalRecords}\")\n",
    "print(f\"Records updated: {recordsUpdated}\")\n"
   ]
  },
  {
   "cell_type": "markdown",
   "id": "01ffbb7f",
   "metadata": {},
   "source": [
    "**Description:**\n",
    "Print out the results, showing the total number of records processed and the number of records updated."
   ]
  },
  {
   "cell_type": "code",
   "execution_count": 257,
   "id": "96f10bf2",
   "metadata": {},
   "outputs": [
    {
     "name": "stdout",
     "output_type": "stream",
     "text": [
      "Total records: 58\n",
      "Records updated: 58\n"
     ]
    }
   ],
   "source": [
    "print(f\"Total records: {totalRecords}\")\n",
    "print(f\"Records updated: {recordsUpdated}\")"
   ]
  }
 ],
 "metadata": {
  "kernelspec": {
   "display_name": "Python 3 (ipykernel)",
   "language": "python",
   "name": "python3"
  },
  "language_info": {
   "codemirror_mode": {
    "name": "ipython",
    "version": 3
   },
   "file_extension": ".py",
   "mimetype": "text/x-python",
   "name": "python",
   "nbconvert_exporter": "python",
   "pygments_lexer": "ipython3",
   "version": "3.9.7"
  }
 },
 "nbformat": 4,
 "nbformat_minor": 5
}
