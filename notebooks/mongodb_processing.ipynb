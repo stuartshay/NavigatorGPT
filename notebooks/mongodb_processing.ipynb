{
 "cells": [
  {
   "cell_type": "markdown",
   "id": "b4f45590",
   "metadata": {},
   "source": [
    "# NavigatorGPT - MongoDB Processing"
   ]
  },
  {
   "cell_type": "code",
   "execution_count": 113,
   "id": "bdca09ad",
   "metadata": {},
   "outputs": [
    {
     "name": "stdout",
     "output_type": "stream",
     "text": [
      "The MongoDB client has been initialized.\n",
      "The version of the pymongo package is 4.4.1\n"
     ]
    }
   ],
   "source": [
    "import json\n",
    "import pymongo\n",
    "from pymongo import MongoClient, UpdateOne\n",
    "from bson.objectid import Objectid\n",
    "\n",
    "# Load the MongoDB connection string from the JSON file\n",
    "PATH_TO_SECRET_JSON = '/home/jovyan/keys/mongodb_key.json'\n",
    "with open(PATH_TO_SECRET_JSON) as f:\n",
    "    MONGODB_URI = json.load(f)['connection_string']\n",
    "\n",
    "# Extract the database name from the connection string\n",
    "db_name = MONGODB_URI.split('/')[-1].split('?')[0]\n",
    "\n",
    "# Create a MongoDB client using the connection string\n",
    "if MONGODB_URI:\n",
    "    client = MongoClient(MONGODB_URI)\n",
    "    print(\"The MongoDB client has been initialized.\")\n",
    "else:\n",
    "    print(\"Failed to initialize the MongoDB client.\")\n",
    "\n",
    "# Print the version of the pymongo package\n",
    "pymongo_version = pymongo.__version__\n",
    "print(f\"The version of the pymongo package is {pymongo_version}\")\n",
    "\n",
    "# Connect to the specified MongoDB database and collection\n",
    "db = client[db_name]\n",
    "collection = db.attractions"
   ]
  },
  {
   "cell_type": "code",
   "execution_count": 114,
   "id": "eaf12d73",
   "metadata": {},
   "outputs": [
    {
     "name": "stdout",
     "output_type": "stream",
     "text": [
      "{'_id': ObjectId('6450c55c3879cf70e53ff044'), 'title': 'Schermerhorn Building', 'key': 'SchermerhornBuilding', 'featureKey': 'landmark', 'catalog': 'nycwayfinding', 'loc': {'lat': 40.72761, 'lon': -73.99378, 'location': '376-380 Lafayette Street', 'neighborhood': 'Greenwich Village', 'postalCode': '10012', 'city': 'New York', 'state': 'NY'}, 'map': {'center': {'latitude': 40.72761, 'longitude': -73.99378}, 'zoom': 17}, 'machineTags': [{'tag': 'nycwayfinding:lp=00193'}], 'photo': {'_id': ObjectId('649340baf86d4f4d60e5f631'), 'photoId': 52920417345, 'title': 'Schermerhorn Building', 'url': 'https://live.staticflickr.com/65535/52920417345_6a30663600_t.jpg', 'width': 100, 'height': 75}, 'inventory': {'styles': ['N/A'], 'architects': ['Henry J. Hardenbergh']}, 'aliases': ['376-380 Lafayette Street Building']}\n"
     ]
    }
   ],
   "source": [
    "# Find the document with the specified Objectid in the 'attractions' collection\n",
    "document = collection.find_one({\"_id\": Objectid(\"6450c55c3879cf70e53ff044\")})\n",
    "\n",
    "# Print the retrieved document\n",
    "print(document)\n"
   ]
  },
  {
   "cell_type": "markdown",
   "id": "2ba84789",
   "metadata": {},
   "source": [
    "**Description:**\n",
    "We have a dataset of attractions with specific fields to be updated in the database. Below is the dataset:"
   ]
  },
  {
   "cell_type": "code",
   "execution_count": 124,
   "id": "05d2f9a6",
   "metadata": {},
   "outputs": [],
   "source": [
    "data = [\n",
    "\n",
    "{\"id\": \"56c0ef516e78364115ed8745\", \"loc.boroughCode\": \"BX\", \"loc.neighborhood\": \"Tremont\", \"loc.postalCode\": \"10460\"},\n",
    "{\"id\": \"56c0ed266e78364115ed8743\", \"loc.boroughCode\": \"BX\", \"loc.neighborhood\": \"Tremont\", \"loc.postalCode\": \"10460\"},\n",
    "{\"id\": \"56c113df6e78364115ed8760\", \"loc.boroughCode\": \"BK\", \"loc.neighborhood\": \"Prospect Heights\", \"loc.postalCode\": \"11238\"},\n",
    "{\"id\": \"56c9511362a3debc2b358e84\", \"loc.boroughCode\": \"MN\", \"loc.neighborhood\": \"Chelsea\", \"loc.postalCode\": \"10001\"},\n",
    "{\"id\": \"56ce835562a3debc2b358f0e\", \"loc.boroughCode\": \"BX\", \"loc.neighborhood\": \"Eastchester\", \"loc.postalCode\": \"10464\"},\n",
    "{\"id\": \"56a5a5b4c60405816fdf8f46\", \"loc.boroughCode\": \"BK\", \"loc.neighborhood\": \"Downtown\", \"loc.postalCode\": \"11201\"},\n",
    "{\"id\": \"56a55225c60405816fdf8ef9\", \"loc.boroughCode\": \"BK\", \"loc.neighborhood\": \"Downtown\", \"loc.postalCode\": \"11201\"},\n",
    "{\"id\": \"56c93c6962a3debc2b358e80\", \"loc.boroughCode\": \"BK\", \"loc.neighborhood\": \"Downtown\", \"loc.postalCode\": \"11201\"},\n",
    "{\"id\": \"56a542a3c60405816fdf8ef7\", \"loc.boroughCode\": \"BK\", \"loc.neighborhood\": \"Downtown\", \"loc.postalCode\": \"11201\"},\n",
    "{\"id\": \"56a55ec9c60405816fdf8f14\", \"loc.boroughCode\": \"BK\", \"loc.neighborhood\": \"Bensonhurst\", \"loc.postalCode\": \"11214\"},\n",
    "{\"id\": \"56ca833962a3debc2b358eb8\", \"loc.boroughCode\": \"QN\", \"loc.neighborhood\": \"Kew Gardens\", \"loc.postalCode\": \"11366\"},\n",
    "{\"id\": \"56c6ac0e62a3debc2b358e73\", \"loc.boroughCode\": \"MN\", \"loc.neighborhood\": \"West Village\", \"loc.postalCode\": \"10014\"},\n",
    "{\"id\": \"56ca88ec62a3debc2b358ec0\", \"loc.boroughCode\": \"BK\", \"loc.neighborhood\": \"Downtown\", \"loc.postalCode\": \"11201\"},\n",
    "{\"id\": \"56bee52a6e78364115ed8591\", \"loc.boroughCode\": \"MN\", \"loc.neighborhood\": \"Garment District\", \"loc.postalCode\": \"10018\"},\n",
    "{\"id\": \"56c3dfaf6e78364115ed87f7\", \"loc.boroughCode\": \"MN\", \"loc.neighborhood\": \"Garment District\", \"loc.postalCode\": \"10018\"},\n",
    "{\"id\": \"56b5972dcd15881700bb2b1e\", \"loc.boroughCode\": \"MN\", \"loc.neighborhood\": \"Chelsea\", \"loc.postalCode\": \"10001\"},\n",
    "{\"id\": \"56b6f541cd15882254355aac\", \"loc.boroughCode\": \"MN\", \"loc.neighborhood\": \"Chelsea\", \"loc.postalCode\": \"10001\"},\n",
    "{\"id\": \"56b6d261cd1588295803c3a3\", \"loc.boroughCode\": \"MN\", \"loc.neighborhood\": \"Chelsea\", \"loc.postalCode\": \"10001\"},\n",
    "{\"id\": \"56b68230cd15882c40f88b19\", \"loc.boroughCode\": \"MN\", \"loc.neighborhood\": \"Chelsea\", \"loc.postalCode\": \"10001\"},\n",
    "{\"id\": \"56b5a05acd158828fcd0bb23\", \"loc.boroughCode\": \"MN\", \"loc.neighborhood\": \"East Harlem\", \"loc.postalCode\": \"10029\"},\n",
    "{\"id\": \"56b59994cd15881f5cace870\", \"loc.boroughCode\": \"MN\", \"loc.neighborhood\": \"East Village\", \"loc.postalCode\": \"10009\"},\n",
    "{\"id\": \"56b2de8dcd158824dc465b87\", \"loc.boroughCode\": \"MN\", \"loc.neighborhood\": \"East Village\", \"loc.postalCode\": \"10003\"},\n",
    "{\"id\": \"56b6d261cd1588295803c3a2\", \"loc.boroughCode\": \"MN\", \"loc.neighborhood\": \"East Village\", \"loc.postalCode\": \"10009\"},\n",
    "{\"id\": \"56b56a84cd1588242cef2692\", \"loc.boroughCode\": \"MN\", \"loc.neighborhood\": \"East Village\", \"loc.postalCode\": \"10009\"},\n",
    "{\"id\": \"56b4334fcd15881df46140bf\", \"loc.boroughCode\": \"MN\", \"loc.neighborhood\": \"East Village\", \"loc.postalCode\": \"10009\"},\n",
    "{\"id\": \"56b7b9eccd15882d3ca4a1af\", \"loc.boroughCode\": \"MN\", \"loc.neighborhood\": \"East Village\", \"loc.postalCode\": \"10009\"},\n",
    "{\"id\": \"56ac53bccd15883f548f6f8f\", \"loc.boroughCode\": \"BX\", \"loc.neighborhood\": \"Eastchester\", \"loc.postalCode\": \"10464\"},\n",
    "{\"id\": \"56b570e2cd15880120dc35c7\", \"loc.boroughCode\": \"MN\", \"loc.neighborhood\": \"Garment District\", \"loc.postalCode\": \"10018\"},\n",
    "{\"id\": \"56b2c02bcd158817288a84e1\", \"loc.boroughCode\": \"MN\", \"loc.neighborhood\": \"Garment District\", \"loc.postalCode\": \"10018\"},\n",
    "{\"id\": \"56b570e2cd15880120dc35c5\", \"loc.boroughCode\": \"MN\", \"loc.neighborhood\": \"Washington Heights\", \"loc.postalCode\": \"10040\"},\n",
    "{\"id\": \"56b570e2cd15880120dc35c6\", \"loc.boroughCode\": \"MN\", \"loc.neighborhood\": \"Washington Heights\", \"loc.postalCode\": \"10040\"},\n",
    "{\"id\": \"56b6d261cd1588295803c3a4\", \"loc.boroughCode\": \"MN\", \"loc.neighborhood\": \"Washington Heights\", \"loc.postalCode\": \"10040\"},\n",
    "{\"id\": \"56b41ae4cd15882dc05a16c5\", \"loc.boroughCode\": \"MN\", \"loc.neighborhood\": \"West Village\", \"loc.postalCode\": \"10014\"},\n",
    "{\"id\": \"56bfc69bcd158821548019cc\", \"loc.boroughCode\": \"QN\", \"loc.neighborhood\": \"Woodside\", \"loc.postalCode\": \"11377\"},\n",
    "{\"id\": \"56bffc9ecd15882c0c671241\", \"loc.boroughCode\": \"QN\", \"loc.neighborhood\": \"Woodside\", \"loc.postalCode\": \"11377\"}\n",
    "\n",
    "\n",
    "\n",
    "\n",
    "\n",
    "]"
   ]
  },
  {
   "cell_type": "markdown",
   "id": "826bcdf6",
   "metadata": {},
   "source": [
    "**Description:**\n",
    "Now, we'll loop through the dataset and update the records in the MongoDB collection."
   ]
  },
  {
   "cell_type": "code",
   "execution_count": 125,
   "id": "658287f2",
   "metadata": {},
   "outputs": [
    {
     "name": "stdout",
     "output_type": "stream",
     "text": [
      "Total records: 35\n",
      "Records updated: 35\n"
     ]
    }
   ],
   "source": [
    "# Initialize counters and operations list\n",
    "totalRecords = len(data)\n",
    "recordsUpdated = 0\n",
    "operations = []\n",
    "\n",
    "# Prepare bulk update operations for each record in data\n",
    "for item in data:\n",
    "    update_fields = {}\n",
    "\n",
    "    # Iterate over all keys in the item\n",
    "    for key, value in item.items():\n",
    "        # Check if the value is a dictionary (nested dictionary in MongoDB)\n",
    "        if isinstance(value, dict):\n",
    "            for sub_key, sub_value in value.items():\n",
    "                update_fields[f\"{key}.{sub_key}\"] = sub_value\n",
    "        else:\n",
    "            update_fields[key] = value\n",
    "\n",
    "    operations.append(\n",
    "        UpdateOne(\n",
    "            {\"_id\": ObjectId(item['id'])},  # corrected here\n",
    "            {\"$set\": update_fields},\n",
    "            upsert=True\n",
    "        )\n",
    "    )\n",
    "\n",
    "# Execute the update operations in bulk\n",
    "result = collection.bulk_write(operations)\n",
    "\n",
    "# Calculate the total records updated\n",
    "recordsUpdated = result.modified_count + len(result.upserted_ids)\n",
    "\n",
    "# Output the results\n",
    "print(f\"Total records: {totalRecords}\")\n",
    "print(f\"Records updated: {recordsUpdated}\")\n"
   ]
  },
  {
   "cell_type": "markdown",
   "id": "01ffbb7f",
   "metadata": {},
   "source": [
    "**Description:**\n",
    "Print out the results, showing the total number of records processed and the number of records updated."
   ]
  },
  {
   "cell_type": "code",
   "execution_count": 126,
   "id": "96f10bf2",
   "metadata": {},
   "outputs": [
    {
     "name": "stdout",
     "output_type": "stream",
     "text": [
      "Total records: 35\n",
      "Records updated: 35\n"
     ]
    }
   ],
   "source": [
    "print(f\"Total records: {totalRecords}\")\n",
    "print(f\"Records updated: {recordsUpdated}\")"
   ]
  }
 ],
 "metadata": {
  "kernelspec": {
   "display_name": "Python 3 (ipykernel)",
   "language": "python",
   "name": "python3"
  },
  "language_info": {
   "codemirror_mode": {
    "name": "ipython",
    "version": 3
   },
   "file_extension": ".py",
   "mimetype": "text/x-python",
   "name": "python",
   "nbconvert_exporter": "python",
   "pygments_lexer": "ipython3",
   "version": "3.9.7"
  }
 },
 "nbformat": 4,
 "nbformat_minor": 5
}
