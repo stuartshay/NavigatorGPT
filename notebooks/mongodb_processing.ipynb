{
 "cells": [
  {
   "cell_type": "markdown",
   "id": "b4f45590",
   "metadata": {},
   "source": [
    "**Description:**\n",
    "This notebook is designed to update a collection in MongoDB. The script connects to a MongoDB database, fetches a specific collection, and updates records based on a provided data set."
   ]
  },
  {
   "cell_type": "code",
   "execution_count": null,
   "id": "fd6b1250",
   "metadata": {},
   "outputs": [],
   "source": [
    "# Required Libraries\n",
    "from pymongo import MongoClient, UpdateOne\n",
    "from bson.objectid import ObjectId\n",
    "\n",
    "# Connect to your MongoDB database\n",
    "client = MongoClient('mongodb://your_mongodb_uri')\n",
    "db = client.your_db_name  # replace 'your_db_name' with the name of your database\n",
    "collection = db.attractions"
   ]
  },
  {
   "cell_type": "markdown",
   "id": "2ba84789",
   "metadata": {},
   "source": [
    "**Description:**\n",
    "We have a dataset of attractions with specific fields to be updated in the database. Below is the dataset:"
   ]
  },
  {
   "cell_type": "code",
   "execution_count": null,
   "id": "05d2f9a6",
   "metadata": {},
   "outputs": [],
   "source": [
    "data = [\n",
    "    {\"id\": \"552be710912913b260eb7638\", \"boroughCode\": \"MN\", \"neighborhood\": \"Morningside Heights\", \"postalCode\": \"10027\"},\n",
    "    {\"id\": \"552aacc6912913b260eb7620\", \"boroughCode\": \"MN\", \"neighborhood\": \"Morningside Heights\", \"postalCode\": \"10027\"},\n",
    "]"
   ]
  },
  {
   "cell_type": "markdown",
   "id": "826bcdf6",
   "metadata": {},
   "source": [
    "**Description:**\n",
    "Now, we'll loop through the dataset and update the records in the MongoDB collection."
   ]
  },
  {
   "cell_type": "code",
   "execution_count": null,
   "id": "658287f2",
   "metadata": {},
   "outputs": [],
   "source": [
    "totalRecords = len(data)\n",
    "recordsUpdated = 0\n",
    "\n",
    "operations = []\n",
    "\n",
    "for item in data:\n",
    "    operations.append(\n",
    "        UpdateOne(\n",
    "            {\"_id\": ObjectId(item['id'])},\n",
    "            {\n",
    "                \"$set\": {\n",
    "                    \"loc.boroughCode\": item['boroughCode'],\n",
    "                    \"loc.neighborhood\": item['neighborhood'],\n",
    "                    \"loc.postalCode\": item['postalCode']\n",
    "                }\n",
    "            },\n",
    "            upsert=True\n",
    "        )\n",
    "    )\n",
    "\n",
    "result = collection.bulk_write(operations)\n",
    "recordsUpdated = result.modified_count + len(result.upserted_ids)\n",
    "\n",
    "recordsUpdated"
   ]
  },
  {
   "cell_type": "markdown",
   "id": "01ffbb7f",
   "metadata": {},
   "source": [
    "**Description:**\n",
    "Print out the results, showing the total number of records processed and the number of records updated."
   ]
  },
  {
   "cell_type": "code",
   "execution_count": null,
   "id": "96f10bf2",
   "metadata": {},
   "outputs": [],
   "source": [
    "print(f\"Total records: {totalRecords}\")\n",
    "print(f\"Records updated: {recordsUpdated}\")"
   ]
  }
 ],
 "metadata": {},
 "nbformat": 4,
 "nbformat_minor": 5
}
