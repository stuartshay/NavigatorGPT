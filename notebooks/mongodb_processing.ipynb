{
 "cells": [
  {
   "cell_type": "markdown",
   "id": "b4f45590",
   "metadata": {},
   "source": [
    "**Description:**\n",
    "This notebook is designed to update a collection in MongoDB. The script connects to a MongoDB database, fetches a specific collection, and updates records based on a provided data set."
   ]
  },
  {
   "cell_type": "code",
   "execution_count": 78,
   "id": "bdca09ad",
   "metadata": {},
   "outputs": [
    {
     "name": "stdout",
     "output_type": "stream",
     "text": [
      "The MongoDB client has been initialized.\n",
      "The version of the pymongo package is 4.4.1\n"
     ]
    }
   ],
   "source": [
    "import json\n",
    "import pymongo\n",
    "from pymongo import MongoClient, UpdateOne\n",
    "from bson.objectid import ObjectId\n",
    "\n",
    "# Load the MongoDB connection string from the JSON file\n",
    "PATH_TO_SECRET_JSON = '/home/jovyan/keys/mongodb_key.json'\n",
    "with open(PATH_TO_SECRET_JSON) as f:\n",
    "    MONGODB_URI = json.load(f)['connection_string']\n",
    "\n",
    "# Extract the database name from the connection string\n",
    "db_name = MONGODB_URI.split('/')[-1].split('?')[0]\n",
    "\n",
    "# Create a MongoDB client using the connection string\n",
    "if MONGODB_URI:\n",
    "    client = MongoClient(MONGODB_URI)\n",
    "    print(\"The MongoDB client has been initialized.\")\n",
    "else:\n",
    "    print(\"Failed to initialize the MongoDB client.\")\n",
    "\n",
    "# Print the version of the pymongo package\n",
    "pymongo_version = pymongo.__version__\n",
    "print(f\"The version of the pymongo package is {pymongo_version}\")\n",
    "\n",
    "# Connect to the specified MongoDB database and collection\n",
    "db = client[db_name]\n",
    "collection = db.attractions"
   ]
  },
  {
   "cell_type": "code",
   "execution_count": 79,
   "id": "eaf12d73",
   "metadata": {},
   "outputs": [
    {
     "name": "stdout",
     "output_type": "stream",
     "text": [
      "{'_id': ObjectId('6450c55c3879cf70e53ff044'), 'title': 'Schermerhorn Building', 'key': 'SchermerhornBuilding', 'featureKey': 'landmark', 'catalog': 'nycwayfinding', 'loc': {'lat': 40.72761, 'lon': -73.99378, 'location': '376-380 Lafayette Street', 'neighborhood': 'Greenwich Village', 'postalCode': '10012', 'city': 'New York', 'state': 'NY'}, 'map': {'center': {'latitude': 40.72761, 'longitude': -73.99378}, 'zoom': 17}, 'machineTags': [{'tag': 'nycwayfinding:lp=00193'}], 'photo': {'_id': ObjectId('649340baf86d4f4d60e5f631'), 'photoId': 52920417345, 'title': 'Schermerhorn Building', 'url': 'https://live.staticflickr.com/65535/52920417345_6a30663600_t.jpg', 'width': 100, 'height': 75}, 'inventory': {'styles': ['N/A'], 'architects': ['Henry J. Hardenbergh']}, 'aliases': ['376-380 Lafayette Street Building']}\n"
     ]
    }
   ],
   "source": [
    "# Find the document with the specified ObjectId in the 'attractions' collection\n",
    "document = collection.find_one({\"_id\": ObjectId(\"6450c55c3879cf70e53ff044\")})\n",
    "\n",
    "# Print the retrieved document\n",
    "print(document)\n"
   ]
  },
  {
   "cell_type": "markdown",
   "id": "2ba84789",
   "metadata": {},
   "source": [
    "**Description:**\n",
    "We have a dataset of attractions with specific fields to be updated in the database. Below is the dataset:"
   ]
  },
  {
   "cell_type": "code",
   "execution_count": 67,
   "id": "05d2f9a6",
   "metadata": {},
   "outputs": [],
   "source": [
    "data = [\n",
    "{\"id\": \"646c1a8b9e866c1d68eb57b1\", \"loc.boroughCode\": \"MN\", \"loc.neighborhood\": \"Lower East Side\", \"loc.postalCode\": \"10002\"},\n",
    "{\"id\": \"646c2ba39e866c1d68eb57bc\", \"loc.boroughCode\": \"MN\", \"loc.neighborhood\": \"Lower East Side\", \"loc.postalCode\": \"10038\"},\n",
    "{\"id\": \"5541973b083cd88a44265cf6\", \"loc.boroughCode\": \"MN\", \"loc.neighborhood\": \"Midtown\", \"loc.postalCode\": \"10019\"},\n",
    "{\"id\": \"646c28aa9e866c1d68eb57b7\", \"loc.boroughCode\": \"MN\", \"loc.neighborhood\": \"Lower East Side\", \"loc.postalCode\": \"10002\"},\n",
    "{\"id\": \"646c307f9e866c1d68eb57c0\", \"loc.boroughCode\": \"MN\", \"loc.neighborhood\": \"Lower East Side\", \"loc.postalCode\": \"10002\"},\n",
    "{\"id\": \"646c2b099e866c1d68eb57bb\", \"loc.boroughCode\": \"MN\", \"loc.neighborhood\": \"Lower East Side\", \"loc.postalCode\": \"10002\"},\n",
    "{\"id\": \"644cc0b53879cf70e53ff027\", \"loc.boroughCode\": \"MN\", \"loc.neighborhood\": \"Lower East Side\", \"loc.postalCode\": \"10002\"},\n",
    "{\"id\": \"646c311c9e866c1d68eb57c1\", \"loc.boroughCode\": \"MN\", \"loc.neighborhood\": \"Lower East Side\", \"loc.postalCode\": \"10002\"},\n",
    "]"
   ]
  },
  {
   "cell_type": "markdown",
   "id": "826bcdf6",
   "metadata": {},
   "source": [
    "**Description:**\n",
    "Now, we'll loop through the dataset and update the records in the MongoDB collection."
   ]
  },
  {
   "cell_type": "code",
   "execution_count": 70,
   "id": "658287f2",
   "metadata": {},
   "outputs": [
    {
     "name": "stdout",
     "output_type": "stream",
     "text": [
      "Total records: 8\n",
      "Records updated: 0\n"
     ]
    }
   ],
   "source": [
    "# Initialize counters and operations list\n",
    "totalRecords = len(data)\n",
    "recordsUpdated = 0\n",
    "operations = []\n",
    "\n",
    "# Prepare bulk update operations for each record in data\n",
    "for item in data:\n",
    "    update_fields = {}\n",
    "\n",
    "    # Iterate over all keys in the item\n",
    "    for key, value in item.items():\n",
    "        # Check if the value is a dictionary (nested dictionary in MongoDB)\n",
    "        if isinstance(value, dict):\n",
    "            for sub_key, sub_value in value.items():\n",
    "                update_fields[f\"{key}.{sub_key}\"] = sub_value\n",
    "        else:\n",
    "            update_fields[key] = value\n",
    "\n",
    "    operations.append(\n",
    "        UpdateOne(\n",
    "            {\"_id\": ObjectId(item['id'])},  # corrected here\n",
    "            {\"$set\": update_fields},\n",
    "            upsert=True\n",
    "        )\n",
    "    )\n",
    "\n",
    "# Execute the update operations in bulk\n",
    "result = collection.bulk_write(operations)\n",
    "\n",
    "# Calculate the total records updated\n",
    "recordsUpdated = result.modified_count + len(result.upserted_ids)\n",
    "\n",
    "# Output the results\n",
    "print(f\"Total records: {totalRecords}\")\n",
    "print(f\"Records updated: {recordsUpdated}\")\n"
   ]
  },
  {
   "cell_type": "markdown",
   "id": "01ffbb7f",
   "metadata": {},
   "source": [
    "**Description:**\n",
    "Print out the results, showing the total number of records processed and the number of records updated."
   ]
  },
  {
   "cell_type": "code",
   "execution_count": 72,
   "id": "96f10bf2",
   "metadata": {},
   "outputs": [
    {
     "name": "stdout",
     "output_type": "stream",
     "text": [
      "Total records: 8\n",
      "Records updated: 0\n"
     ]
    }
   ],
   "source": [
    "print(f\"Total records: {totalRecords}\")\n",
    "print(f\"Records updated: {recordsUpdated}\")"
   ]
  }
 ],
 "metadata": {
  "kernelspec": {
   "display_name": "Python 3 (ipykernel)",
   "language": "python",
   "name": "python3"
  },
  "language_info": {
   "codemirror_mode": {
    "name": "ipython",
    "version": 3
   },
   "file_extension": ".py",
   "mimetype": "text/x-python",
   "name": "python",
   "nbconvert_exporter": "python",
   "pygments_lexer": "ipython3",
   "version": "3.9.7"
  }
 },
 "nbformat": 4,
 "nbformat_minor": 5
}
